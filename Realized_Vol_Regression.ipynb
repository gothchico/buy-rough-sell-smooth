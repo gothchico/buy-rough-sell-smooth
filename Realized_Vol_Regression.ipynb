{
 "cells": [
  {
   "cell_type": "code",
   "execution_count": 124,
   "metadata": {},
   "outputs": [],
   "source": [
    "import pandas as pd\n",
    "import numpy as np\n",
    "from datetime import datetime\n",
    "import os   \n",
    "import sys\n",
    "import matplotlib.pyplot as plt\n",
    "from sklearn.linear_model import LinearRegression\n",
    "from scipy.optimize import minimize\n",
    "from scipy import interpolate\n",
    "from pandas.tseries.holiday import USFederalHolidayCalendar\n",
    "from pandas.tseries.offsets import CustomBusinessDay\n",
    "import warnings\n",
    "import statsmodels.api as sm\n",
    "from scipy.optimize import fsolve\n",
    "from scipy.stats import norm\n",
    "from sklearn.decomposition import PCA\n",
    "import warnings\n",
    "from scipy.optimize import fsolve\n",
    "import numpy.polynomial.polynomial as poly\n",
    "warnings.filterwarnings(action='ignore')"
   ]
  },
  {
   "cell_type": "code",
   "execution_count": 125,
   "metadata": {},
   "outputs": [],
   "source": [
    "industries = pd.read_csv('./industry.csv')"
   ]
  },
  {
   "cell_type": "code",
   "execution_count": 126,
   "metadata": {},
   "outputs": [
    {
     "data": {
      "application/vnd.microsoft.datawrangler.viewer.v0+json": {
       "columns": [
        {
         "name": "index",
         "rawType": "int64",
         "type": "integer"
        },
        {
         "name": "industry",
         "rawType": "object",
         "type": "string"
        },
        {
         "name": "top_tickers",
         "rawType": "object",
         "type": "string"
        }
       ],
       "conversionMethod": "pd.DataFrame",
       "ref": "7919bc7b-5680-44f9-aafd-511b05d0f9d1",
       "rows": [
        [
         "0",
         "US Consumer Discretionary",
         "AMZN"
        ],
        [
         "1",
         "US Consumer Discretionary",
         "TSLA"
        ],
        [
         "2",
         "US Consumer Discretionary",
         "HD"
        ],
        [
         "3",
         "US Consumer Discretionary",
         "WMT"
        ],
        [
         "4",
         "US Consumer Discretionary",
         "MCD"
        ],
        [
         "5",
         "US Consumer Discretionary",
         "BKNG"
        ],
        [
         "6",
         "US Consumer Discretionary",
         "LOW"
        ],
        [
         "7",
         "US Consumer Discretionary",
         "TJX"
        ],
        [
         "8",
         "US Consumer Discretionary",
         "UBER"
        ],
        [
         "9",
         "US Consumer Discretionary",
         "SBUX"
        ],
        [
         "10",
         "US Consumer Staples",
         "COST"
        ],
        [
         "11",
         "US Consumer Staples",
         "PG"
        ],
        [
         "12",
         "US Consumer Staples",
         "KO"
        ],
        [
         "13",
         "US Consumer Staples",
         "PEP"
        ],
        [
         "14",
         "US Consumer Staples",
         "PM"
        ],
        [
         "15",
         "US Consumer Staples",
         "MO"
        ],
        [
         "16",
         "US Consumer Staples",
         "MDLZ"
        ],
        [
         "17",
         "US Consumer Staples",
         "CL"
        ],
        [
         "18",
         "US Consumer Staples",
         "KMB"
        ],
        [
         "19",
         "US Consumer Staples",
         "KVUE"
        ],
        [
         "20",
         "US Energy",
         "XOM"
        ],
        [
         "21",
         "US Energy",
         "CVX"
        ],
        [
         "22",
         "US Energy",
         "COP"
        ],
        [
         "23",
         "US Energy",
         "EOG"
        ],
        [
         "24",
         "US Energy",
         "WMB"
        ],
        [
         "25",
         "US Energy",
         "OKE"
        ],
        [
         "26",
         "US Energy",
         "SLB"
        ],
        [
         "27",
         "US Energy",
         "KMI"
        ],
        [
         "28",
         "US Energy",
         "PSX"
        ],
        [
         "29",
         "US Energy",
         "LNG"
        ],
        [
         "30",
         "US Financials",
         "BRK.A/BRK.B"
        ],
        [
         "31",
         "US Financials",
         "JPM"
        ],
        [
         "32",
         "US Financials",
         "V"
        ],
        [
         "33",
         "US Financials",
         "MA"
        ],
        [
         "34",
         "US Financials",
         "BAC"
        ],
        [
         "35",
         "US Financials",
         "WFC"
        ],
        [
         "36",
         "US Financials",
         "GS"
        ],
        [
         "37",
         "US Financials",
         "SPGI"
        ],
        [
         "38",
         "US Financials",
         "MS"
        ],
        [
         "39",
         "US Financials",
         "AXP"
        ],
        [
         "40",
         "US Healthcare",
         "LLY"
        ],
        [
         "41",
         "US Healthcare",
         "UNH"
        ],
        [
         "42",
         "US Healthcare",
         "JNJ"
        ],
        [
         "43",
         "US Healthcare",
         "ABBV"
        ],
        [
         "44",
         "US Healthcare",
         "MRK"
        ],
        [
         "45",
         "US Healthcare",
         "TMO"
        ],
        [
         "46",
         "US Healthcare",
         "ABT"
        ],
        [
         "47",
         "US Healthcare",
         "ISRG"
        ],
        [
         "48",
         "US Healthcare",
         "PFE"
        ],
        [
         "49",
         "US Healthcare",
         "DHR"
        ]
       ],
       "shape": {
        "columns": 2,
        "rows": 110
       }
      },
      "text/html": [
       "<div>\n",
       "<style scoped>\n",
       "    .dataframe tbody tr th:only-of-type {\n",
       "        vertical-align: middle;\n",
       "    }\n",
       "\n",
       "    .dataframe tbody tr th {\n",
       "        vertical-align: top;\n",
       "    }\n",
       "\n",
       "    .dataframe thead th {\n",
       "        text-align: right;\n",
       "    }\n",
       "</style>\n",
       "<table border=\"1\" class=\"dataframe\">\n",
       "  <thead>\n",
       "    <tr style=\"text-align: right;\">\n",
       "      <th></th>\n",
       "      <th>industry</th>\n",
       "      <th>top_tickers</th>\n",
       "    </tr>\n",
       "  </thead>\n",
       "  <tbody>\n",
       "    <tr>\n",
       "      <th>0</th>\n",
       "      <td>US Consumer Discretionary</td>\n",
       "      <td>AMZN</td>\n",
       "    </tr>\n",
       "    <tr>\n",
       "      <th>1</th>\n",
       "      <td>US Consumer Discretionary</td>\n",
       "      <td>TSLA</td>\n",
       "    </tr>\n",
       "    <tr>\n",
       "      <th>2</th>\n",
       "      <td>US Consumer Discretionary</td>\n",
       "      <td>HD</td>\n",
       "    </tr>\n",
       "    <tr>\n",
       "      <th>3</th>\n",
       "      <td>US Consumer Discretionary</td>\n",
       "      <td>WMT</td>\n",
       "    </tr>\n",
       "    <tr>\n",
       "      <th>4</th>\n",
       "      <td>US Consumer Discretionary</td>\n",
       "      <td>MCD</td>\n",
       "    </tr>\n",
       "    <tr>\n",
       "      <th>...</th>\n",
       "      <td>...</td>\n",
       "      <td>...</td>\n",
       "    </tr>\n",
       "    <tr>\n",
       "      <th>105</th>\n",
       "      <td>US Utilities</td>\n",
       "      <td>AEP</td>\n",
       "    </tr>\n",
       "    <tr>\n",
       "      <th>106</th>\n",
       "      <td>US Utilities</td>\n",
       "      <td>VST</td>\n",
       "    </tr>\n",
       "    <tr>\n",
       "      <th>107</th>\n",
       "      <td>US Utilities</td>\n",
       "      <td>D</td>\n",
       "    </tr>\n",
       "    <tr>\n",
       "      <th>108</th>\n",
       "      <td>US Utilities</td>\n",
       "      <td>PCG</td>\n",
       "    </tr>\n",
       "    <tr>\n",
       "      <th>109</th>\n",
       "      <td>US Utilities</td>\n",
       "      <td>PEG</td>\n",
       "    </tr>\n",
       "  </tbody>\n",
       "</table>\n",
       "<p>110 rows × 2 columns</p>\n",
       "</div>"
      ],
      "text/plain": [
       "                      industry top_tickers\n",
       "0    US Consumer Discretionary        AMZN\n",
       "1    US Consumer Discretionary        TSLA\n",
       "2    US Consumer Discretionary          HD\n",
       "3    US Consumer Discretionary         WMT\n",
       "4    US Consumer Discretionary         MCD\n",
       "..                         ...         ...\n",
       "105               US Utilities         AEP\n",
       "106               US Utilities         VST\n",
       "107               US Utilities           D\n",
       "108               US Utilities         PCG\n",
       "109               US Utilities         PEG\n",
       "\n",
       "[110 rows x 2 columns]"
      ]
     },
     "execution_count": 126,
     "metadata": {},
     "output_type": "execute_result"
    }
   ],
   "source": [
    "industries['industry'] = industries.industry.str.replace('CRSP ', '', regex=True)\n",
    "industries['industry'] = industries.industry.str.replace(' Index', '', regex=True)\n",
    "industries['top_tickers'] = industries['top_tickers'].str.split()\n",
    "industries = industries.explode('top_tickers').reset_index(drop=True)\n",
    "industries"
   ]
  },
  {
   "cell_type": "code",
   "execution_count": 127,
   "metadata": {},
   "outputs": [],
   "source": [
    "vols = pd.read_csv('../daily_vol_series.csv')\n",
    "vols = vols[vols['SYM_ROOT'] == vols['symbol']]"
   ]
  },
  {
   "cell_type": "code",
   "execution_count": 128,
   "metadata": {},
   "outputs": [],
   "source": [
    "vols = vols.merge(industries, left_on='SYM_ROOT', right_on='top_tickers', how='inner')\n",
    "vols = vols[['DATE', 'SYM_ROOT', 'industry', 'ivol_t', 'ivol_q']]"
   ]
  },
  {
   "cell_type": "code",
   "execution_count": 129,
   "metadata": {},
   "outputs": [
    {
     "data": {
      "application/vnd.microsoft.datawrangler.viewer.v0+json": {
       "columns": [
        {
         "name": "index",
         "rawType": "int64",
         "type": "integer"
        },
        {
         "name": "DATE",
         "rawType": "object",
         "type": "string"
        },
        {
         "name": "SYM_ROOT",
         "rawType": "object",
         "type": "string"
        },
        {
         "name": "industry",
         "rawType": "object",
         "type": "string"
        },
        {
         "name": "ivol_t",
         "rawType": "float64",
         "type": "float"
        },
        {
         "name": "ivol_q",
         "rawType": "float64",
         "type": "float"
        }
       ],
       "conversionMethod": "pd.DataFrame",
       "ref": "185d0b15-ce1e-4c2b-a5d8-b6bfcce36b5c",
       "rows": [
        [
         "0",
         "2010-01-04",
         "AAPL",
         "US Technology",
         "6.1400841e-09",
         "4.3004e-10"
        ],
        [
         "1",
         "2010-01-05",
         "AAPL",
         "US Technology",
         "5.9975643e-09",
         "3.934783e-10"
        ],
        [
         "2",
         "2010-01-06",
         "AAPL",
         "US Technology",
         "5.7853009e-09",
         "5.765893e-10"
        ],
        [
         "3",
         "2010-01-07",
         "AAPL",
         "US Technology",
         "9.102045e-09",
         "6.42518e-10"
        ],
        [
         "4",
         "2010-01-08",
         "AAPL",
         "US Technology",
         "6.8389241e-09",
         "5.694237e-10"
        ]
       ],
       "shape": {
        "columns": 5,
        "rows": 5
       }
      },
      "text/html": [
       "<div>\n",
       "<style scoped>\n",
       "    .dataframe tbody tr th:only-of-type {\n",
       "        vertical-align: middle;\n",
       "    }\n",
       "\n",
       "    .dataframe tbody tr th {\n",
       "        vertical-align: top;\n",
       "    }\n",
       "\n",
       "    .dataframe thead th {\n",
       "        text-align: right;\n",
       "    }\n",
       "</style>\n",
       "<table border=\"1\" class=\"dataframe\">\n",
       "  <thead>\n",
       "    <tr style=\"text-align: right;\">\n",
       "      <th></th>\n",
       "      <th>DATE</th>\n",
       "      <th>SYM_ROOT</th>\n",
       "      <th>industry</th>\n",
       "      <th>ivol_t</th>\n",
       "      <th>ivol_q</th>\n",
       "    </tr>\n",
       "  </thead>\n",
       "  <tbody>\n",
       "    <tr>\n",
       "      <th>0</th>\n",
       "      <td>2010-01-04</td>\n",
       "      <td>AAPL</td>\n",
       "      <td>US Technology</td>\n",
       "      <td>6.140084e-09</td>\n",
       "      <td>4.300400e-10</td>\n",
       "    </tr>\n",
       "    <tr>\n",
       "      <th>1</th>\n",
       "      <td>2010-01-05</td>\n",
       "      <td>AAPL</td>\n",
       "      <td>US Technology</td>\n",
       "      <td>5.997564e-09</td>\n",
       "      <td>3.934783e-10</td>\n",
       "    </tr>\n",
       "    <tr>\n",
       "      <th>2</th>\n",
       "      <td>2010-01-06</td>\n",
       "      <td>AAPL</td>\n",
       "      <td>US Technology</td>\n",
       "      <td>5.785301e-09</td>\n",
       "      <td>5.765893e-10</td>\n",
       "    </tr>\n",
       "    <tr>\n",
       "      <th>3</th>\n",
       "      <td>2010-01-07</td>\n",
       "      <td>AAPL</td>\n",
       "      <td>US Technology</td>\n",
       "      <td>9.102045e-09</td>\n",
       "      <td>6.425180e-10</td>\n",
       "    </tr>\n",
       "    <tr>\n",
       "      <th>4</th>\n",
       "      <td>2010-01-08</td>\n",
       "      <td>AAPL</td>\n",
       "      <td>US Technology</td>\n",
       "      <td>6.838924e-09</td>\n",
       "      <td>5.694237e-10</td>\n",
       "    </tr>\n",
       "  </tbody>\n",
       "</table>\n",
       "</div>"
      ],
      "text/plain": [
       "         DATE SYM_ROOT       industry        ivol_t        ivol_q\n",
       "0  2010-01-04     AAPL  US Technology  6.140084e-09  4.300400e-10\n",
       "1  2010-01-05     AAPL  US Technology  5.997564e-09  3.934783e-10\n",
       "2  2010-01-06     AAPL  US Technology  5.785301e-09  5.765893e-10\n",
       "3  2010-01-07     AAPL  US Technology  9.102045e-09  6.425180e-10\n",
       "4  2010-01-08     AAPL  US Technology  6.838924e-09  5.694237e-10"
      ]
     },
     "execution_count": 129,
     "metadata": {},
     "output_type": "execute_result"
    }
   ],
   "source": [
    "vols.head()"
   ]
  },
  {
   "cell_type": "code",
   "execution_count": 130,
   "metadata": {},
   "outputs": [],
   "source": [
    "vols = vols[vols['DATE'] <= '2023-08-31']"
   ]
  },
  {
   "cell_type": "code",
   "execution_count": 131,
   "metadata": {},
   "outputs": [],
   "source": [
    "vols['month'] = pd.to_datetime(vols['DATE']).dt.month\n",
    "vols['year'] = pd.to_datetime(vols['DATE']).dt.year\n",
    "vols['ivol_q_log'] = np.log(vols['ivol_q'])"
   ]
  },
  {
   "cell_type": "code",
   "execution_count": 132,
   "metadata": {},
   "outputs": [],
   "source": [
    "def moments(df):\n",
    "    final_dfs = []\n",
    "    for lag in range(1, 11):\n",
    "        tmp = df.groupby(['SYM_ROOT', 'industry', 'year', 'month'])['ivol_q_log']\\\n",
    "            .apply(lambda x: (((x - x.shift(lag))**2).sum() / (x.count() - lag)) ).to_frame(f'lag{lag}_mom')\n",
    "        final_dfs.append(tmp)\n",
    "    final_df = pd.concat(final_dfs, axis=1)\n",
    "    return final_df"
   ]
  },
  {
   "cell_type": "code",
   "execution_count": 133,
   "metadata": {},
   "outputs": [
    {
     "data": {
      "application/vnd.microsoft.datawrangler.viewer.v0+json": {
       "columns": [
        {
         "name": "('SYM_ROOT', 'industry', 'year', 'month')",
         "rawType": "object",
         "type": "unknown"
        },
        {
         "name": "lag1_mom",
         "rawType": "float64",
         "type": "float"
        },
        {
         "name": "lag2_mom",
         "rawType": "float64",
         "type": "float"
        },
        {
         "name": "lag3_mom",
         "rawType": "float64",
         "type": "float"
        },
        {
         "name": "lag4_mom",
         "rawType": "float64",
         "type": "float"
        },
        {
         "name": "lag5_mom",
         "rawType": "float64",
         "type": "float"
        },
        {
         "name": "lag6_mom",
         "rawType": "float64",
         "type": "float"
        },
        {
         "name": "lag7_mom",
         "rawType": "float64",
         "type": "float"
        },
        {
         "name": "lag8_mom",
         "rawType": "float64",
         "type": "float"
        },
        {
         "name": "lag9_mom",
         "rawType": "float64",
         "type": "float"
        },
        {
         "name": "lag10_mom",
         "rawType": "float64",
         "type": "float"
        }
       ],
       "conversionMethod": "pd.DataFrame",
       "ref": "687d190f-22c6-40dd-8e0a-460c193a1709",
       "rows": [
        [
         "('AAPL', 'US Technology', np.int32(2010), np.int32(1))",
         "0.12401234139769092",
         "0.17165365900817067",
         "0.14231684956387852",
         "0.2377848213627867",
         "0.32809867890313266",
         "0.40026590531710554",
         "0.5298775270414108",
         "0.6493286564142395",
         "0.6757414539967953",
         "0.8250335844920867"
        ],
        [
         "('AAPL', 'US Technology', np.int32(2010), np.int32(2))",
         "0.06722461353697669",
         "0.12502111695042264",
         "0.1794755757405889",
         "0.2447095058201966",
         "0.3147226170862583",
         "0.386905513186246",
         "0.49755461847521404",
         "0.5953190331318896",
         "0.6443463152839386",
         "0.7766230272403711"
        ],
        [
         "('AAPL', 'US Technology', np.int32(2010), np.int32(3))",
         "0.17713253542745588",
         "0.2420531472059601",
         "0.1982727257296817",
         "0.1623819923460962",
         "0.2578315280780721",
         "0.3195186389186974",
         "0.22655987788215415",
         "0.24648118512161302",
         "0.2614803568361243",
         "0.3487162603360654"
        ],
        [
         "('AAPL', 'US Technology', np.int32(2010), np.int32(4))",
         "0.19367456604634187",
         "0.27239271778490076",
         "0.31373968670840924",
         "0.40378640490314366",
         "0.41107990521162496",
         "0.4050677851602177",
         "0.39907715233059715",
         "0.554030135584364",
         "0.6981507614384966",
         "0.7255572852928914"
        ],
        [
         "('AAPL', 'US Technology', np.int32(2010), np.int32(5))",
         "15.892976305151317",
         "25.3536592811151",
         "28.885626864077437",
         "29.800795797880117",
         "15.897321554565211",
         "16.978580641680555",
         "17.95794959123457",
         "19.168882504214878",
         "20.298034262843846",
         "22.192186563636408"
        ]
       ],
       "shape": {
        "columns": 10,
        "rows": 5
       }
      },
      "text/html": [
       "<div>\n",
       "<style scoped>\n",
       "    .dataframe tbody tr th:only-of-type {\n",
       "        vertical-align: middle;\n",
       "    }\n",
       "\n",
       "    .dataframe tbody tr th {\n",
       "        vertical-align: top;\n",
       "    }\n",
       "\n",
       "    .dataframe thead th {\n",
       "        text-align: right;\n",
       "    }\n",
       "</style>\n",
       "<table border=\"1\" class=\"dataframe\">\n",
       "  <thead>\n",
       "    <tr style=\"text-align: right;\">\n",
       "      <th></th>\n",
       "      <th></th>\n",
       "      <th></th>\n",
       "      <th></th>\n",
       "      <th>lag1_mom</th>\n",
       "      <th>lag2_mom</th>\n",
       "      <th>lag3_mom</th>\n",
       "      <th>lag4_mom</th>\n",
       "      <th>lag5_mom</th>\n",
       "      <th>lag6_mom</th>\n",
       "      <th>lag7_mom</th>\n",
       "      <th>lag8_mom</th>\n",
       "      <th>lag9_mom</th>\n",
       "      <th>lag10_mom</th>\n",
       "    </tr>\n",
       "    <tr>\n",
       "      <th>SYM_ROOT</th>\n",
       "      <th>industry</th>\n",
       "      <th>year</th>\n",
       "      <th>month</th>\n",
       "      <th></th>\n",
       "      <th></th>\n",
       "      <th></th>\n",
       "      <th></th>\n",
       "      <th></th>\n",
       "      <th></th>\n",
       "      <th></th>\n",
       "      <th></th>\n",
       "      <th></th>\n",
       "      <th></th>\n",
       "    </tr>\n",
       "  </thead>\n",
       "  <tbody>\n",
       "    <tr>\n",
       "      <th rowspan=\"5\" valign=\"top\">AAPL</th>\n",
       "      <th rowspan=\"5\" valign=\"top\">US Technology</th>\n",
       "      <th rowspan=\"5\" valign=\"top\">2010</th>\n",
       "      <th>1</th>\n",
       "      <td>0.124012</td>\n",
       "      <td>0.171654</td>\n",
       "      <td>0.142317</td>\n",
       "      <td>0.237785</td>\n",
       "      <td>0.328099</td>\n",
       "      <td>0.400266</td>\n",
       "      <td>0.529878</td>\n",
       "      <td>0.649329</td>\n",
       "      <td>0.675741</td>\n",
       "      <td>0.825034</td>\n",
       "    </tr>\n",
       "    <tr>\n",
       "      <th>2</th>\n",
       "      <td>0.067225</td>\n",
       "      <td>0.125021</td>\n",
       "      <td>0.179476</td>\n",
       "      <td>0.244710</td>\n",
       "      <td>0.314723</td>\n",
       "      <td>0.386906</td>\n",
       "      <td>0.497555</td>\n",
       "      <td>0.595319</td>\n",
       "      <td>0.644346</td>\n",
       "      <td>0.776623</td>\n",
       "    </tr>\n",
       "    <tr>\n",
       "      <th>3</th>\n",
       "      <td>0.177133</td>\n",
       "      <td>0.242053</td>\n",
       "      <td>0.198273</td>\n",
       "      <td>0.162382</td>\n",
       "      <td>0.257832</td>\n",
       "      <td>0.319519</td>\n",
       "      <td>0.226560</td>\n",
       "      <td>0.246481</td>\n",
       "      <td>0.261480</td>\n",
       "      <td>0.348716</td>\n",
       "    </tr>\n",
       "    <tr>\n",
       "      <th>4</th>\n",
       "      <td>0.193675</td>\n",
       "      <td>0.272393</td>\n",
       "      <td>0.313740</td>\n",
       "      <td>0.403786</td>\n",
       "      <td>0.411080</td>\n",
       "      <td>0.405068</td>\n",
       "      <td>0.399077</td>\n",
       "      <td>0.554030</td>\n",
       "      <td>0.698151</td>\n",
       "      <td>0.725557</td>\n",
       "    </tr>\n",
       "    <tr>\n",
       "      <th>5</th>\n",
       "      <td>15.892976</td>\n",
       "      <td>25.353659</td>\n",
       "      <td>28.885627</td>\n",
       "      <td>29.800796</td>\n",
       "      <td>15.897322</td>\n",
       "      <td>16.978581</td>\n",
       "      <td>17.957950</td>\n",
       "      <td>19.168883</td>\n",
       "      <td>20.298034</td>\n",
       "      <td>22.192187</td>\n",
       "    </tr>\n",
       "  </tbody>\n",
       "</table>\n",
       "</div>"
      ],
      "text/plain": [
       "                                    lag1_mom   lag2_mom   lag3_mom   lag4_mom  \\\n",
       "SYM_ROOT industry      year month                                               \n",
       "AAPL     US Technology 2010 1       0.124012   0.171654   0.142317   0.237785   \n",
       "                            2       0.067225   0.125021   0.179476   0.244710   \n",
       "                            3       0.177133   0.242053   0.198273   0.162382   \n",
       "                            4       0.193675   0.272393   0.313740   0.403786   \n",
       "                            5      15.892976  25.353659  28.885627  29.800796   \n",
       "\n",
       "                                    lag5_mom   lag6_mom   lag7_mom   lag8_mom  \\\n",
       "SYM_ROOT industry      year month                                               \n",
       "AAPL     US Technology 2010 1       0.328099   0.400266   0.529878   0.649329   \n",
       "                            2       0.314723   0.386906   0.497555   0.595319   \n",
       "                            3       0.257832   0.319519   0.226560   0.246481   \n",
       "                            4       0.411080   0.405068   0.399077   0.554030   \n",
       "                            5      15.897322  16.978581  17.957950  19.168883   \n",
       "\n",
       "                                    lag9_mom  lag10_mom  \n",
       "SYM_ROOT industry      year month                        \n",
       "AAPL     US Technology 2010 1       0.675741   0.825034  \n",
       "                            2       0.644346   0.776623  \n",
       "                            3       0.261480   0.348716  \n",
       "                            4       0.698151   0.725557  \n",
       "                            5      20.298034  22.192187  "
      ]
     },
     "execution_count": 133,
     "metadata": {},
     "output_type": "execute_result"
    }
   ],
   "source": [
    "final = moments(vols)\n",
    "final.replace([np.inf, -np.inf], np.nan, inplace=True)\n",
    "final.dropna(inplace=True)\n",
    "final.head()\n"
   ]
  },
  {
   "cell_type": "code",
   "execution_count": 134,
   "metadata": {},
   "outputs": [],
   "source": [
    "betas = pd.DataFrame(columns=['Betas'], index=final.index)\n",
    "for idx,_ in final.iterrows():\n",
    "    y = final.loc[idx].values\n",
    "    X = np.log(range(1, 11)).reshape(-1,1)\n",
    "    # X = sm.add_constant(X)\n",
    "    mod = sm.OLS(y, X).fit()\n",
    "    betas.loc[idx, 'Betas'] = mod.params\n",
    "betas.reset_index(inplace=True)\n",
    "betas['Realized_H'] = betas['Betas'] * 0.5"
   ]
  },
  {
   "cell_type": "code",
   "execution_count": 135,
   "metadata": {},
   "outputs": [
    {
     "data": {
      "application/vnd.microsoft.datawrangler.viewer.v0+json": {
       "columns": [
        {
         "name": "index",
         "rawType": "int64",
         "type": "integer"
        },
        {
         "name": "SYM_ROOT",
         "rawType": "object",
         "type": "string"
        },
        {
         "name": "industry",
         "rawType": "object",
         "type": "string"
        },
        {
         "name": "year",
         "rawType": "int32",
         "type": "integer"
        },
        {
         "name": "month",
         "rawType": "int32",
         "type": "integer"
        },
        {
         "name": "Betas",
         "rawType": "object",
         "type": "unknown"
        },
        {
         "name": "Realized_H",
         "rawType": "object",
         "type": "unknown"
        }
       ],
       "conversionMethod": "pd.DataFrame",
       "ref": "07446972-f484-4934-9fb7-71d776bba38d",
       "rows": [
        [
         "4",
         "AAPL",
         "US Technology",
         "2010",
         "5",
         "11.469401456045503",
         "5.7347007280227515"
        ],
        [
         "67",
         "AAPL",
         "US Technology",
         "2015",
         "8",
         "0.728213179339307",
         "0.3641065896696535"
        ],
        [
         "97",
         "AAPL",
         "US Technology",
         "2018",
         "2",
         "0.6139284992168421",
         "0.30696424960842106"
        ],
        [
         "121",
         "AAPL",
         "US Technology",
         "2020",
         "2",
         "0.7537411782020454",
         "0.3768705891010227"
        ],
        [
         "122",
         "AAPL",
         "US Technology",
         "2020",
         "3",
         "0.7505765646106021",
         "0.37528828230530104"
        ],
        [
         "158",
         "AAPL",
         "US Technology",
         "2023",
         "3",
         "5.915672190356975",
         "2.9578360951784877"
        ],
        [
         "195",
         "ABBV",
         "US Healthcare",
         "2015",
         "8",
         "0.5535046661719194",
         "0.2767523330859597"
        ],
        [
         "222",
         "ABBV",
         "US Healthcare",
         "2017",
         "11",
         "0.5899996979131172",
         "0.2949998489565586"
        ],
        [
         "225",
         "ABBV",
         "US Healthcare",
         "2018",
         "2",
         "0.6374900056049494",
         "0.3187450028024747"
        ],
        [
         "227",
         "ABBV",
         "US Healthcare",
         "2018",
         "4",
         "0.6016205132466564",
         "0.3008102566233282"
        ],
        [
         "234",
         "ABBV",
         "US Healthcare",
         "2018",
         "11",
         "0.8222059771909351",
         "0.41110298859546757"
        ],
        [
         "236",
         "ABBV",
         "US Healthcare",
         "2019",
         "1",
         "0.5021168770540532",
         "0.2510584385270266"
        ],
        [
         "247",
         "ABBV",
         "US Healthcare",
         "2019",
         "12",
         "0.6634725154114168",
         "0.3317362577057084"
        ],
        [
         "249",
         "ABBV",
         "US Healthcare",
         "2020",
         "2",
         "0.6259364000288161",
         "0.31296820001440806"
        ],
        [
         "250",
         "ABBV",
         "US Healthcare",
         "2020",
         "3",
         "1.0504037809675755",
         "0.5252018904837877"
        ],
        [
         "273",
         "ABBV",
         "US Healthcare",
         "2022",
         "2",
         "0.6497482015446681",
         "0.32487410077233403"
        ],
        [
         "296",
         "ABT",
         "US Healthcare",
         "2010",
         "5",
         "0.6433674410667843",
         "0.32168372053339217"
        ],
        [
         "325",
         "ABT",
         "US Healthcare",
         "2012",
         "10",
         "0.5422530679653348",
         "0.2711265339826674"
        ],
        [
         "350",
         "ABT",
         "US Healthcare",
         "2014",
         "11",
         "0.5183140084643532",
         "0.2591570042321766"
        ],
        [
         "371",
         "ABT",
         "US Healthcare",
         "2016",
         "8",
         "0.8900923322374075",
         "0.44504616611870373"
        ],
        [
         "382",
         "ABT",
         "US Healthcare",
         "2017",
         "7",
         "0.553647529091169",
         "0.2768237645455845"
        ],
        [
         "388",
         "ABT",
         "US Healthcare",
         "2018",
         "1",
         "0.8596030233697209",
         "0.42980151168486047"
        ],
        [
         "395",
         "ABT",
         "US Healthcare",
         "2018",
         "8",
         "0.5795323092978697",
         "0.28976615464893485"
        ],
        [
         "399",
         "ABT",
         "US Healthcare",
         "2018",
         "12",
         "1.5242274699488965",
         "0.7621137349744482"
        ],
        [
         "403",
         "ABT",
         "US Healthcare",
         "2019",
         "4",
         "0.938352314875019",
         "0.4691761574375095"
        ],
        [
         "406",
         "ABT",
         "US Healthcare",
         "2019",
         "7",
         "0.6277238875897755",
         "0.31386194379488774"
        ],
        [
         "407",
         "ABT",
         "US Healthcare",
         "2019",
         "8",
         "0.6667365096425354",
         "0.3333682548212677"
        ],
        [
         "410",
         "ABT",
         "US Healthcare",
         "2019",
         "11",
         "0.7354626923722881",
         "0.36773134618614406"
        ],
        [
         "414",
         "ABT",
         "US Healthcare",
         "2020",
         "3",
         "0.9537309882552581",
         "0.4768654941276291"
        ],
        [
         "422",
         "ABT",
         "US Healthcare",
         "2020",
         "11",
         "0.5462982237932392",
         "0.2731491118966196"
        ],
        [
         "457",
         "ACN",
         "US Industrials",
         "2010",
         "2",
         "0.525884768971573",
         "0.2629423844857865"
        ],
        [
         "460",
         "ACN",
         "US Industrials",
         "2010",
         "5",
         "1.696639651777531",
         "0.8483198258887655"
        ],
        [
         "466",
         "ACN",
         "US Industrials",
         "2010",
         "11",
         "1.1081099736069795",
         "0.5540549868034897"
        ],
        [
         "478",
         "ACN",
         "US Industrials",
         "2011",
         "11",
         "0.6884324766688024",
         "0.3442162383344012"
        ],
        [
         "481",
         "ACN",
         "US Industrials",
         "2012",
         "2",
         "0.6065817084665066",
         "0.3032908542332533"
        ],
        [
         "486",
         "ACN",
         "US Industrials",
         "2012",
         "7",
         "0.6870590827653851",
         "0.34352954138269254"
        ],
        [
         "491",
         "ACN",
         "US Industrials",
         "2012",
         "12",
         "0.7932371814439276",
         "0.3966185907219638"
        ],
        [
         "502",
         "ACN",
         "US Industrials",
         "2013",
         "11",
         "0.7850361959164391",
         "0.39251809795821957"
        ],
        [
         "503",
         "ACN",
         "US Industrials",
         "2013",
         "12",
         "0.9253404505764062",
         "0.4626702252882031"
        ],
        [
         "506",
         "ACN",
         "US Industrials",
         "2014",
         "3",
         "0.5415384023934329",
         "0.27076920119671644"
        ],
        [
         "509",
         "ACN",
         "US Industrials",
         "2014",
         "6",
         "0.5202421675838727",
         "0.2601210837919363"
        ],
        [
         "510",
         "ACN",
         "US Industrials",
         "2014",
         "7",
         "0.790598714624881",
         "0.3952993573124405"
        ],
        [
         "515",
         "ACN",
         "US Industrials",
         "2014",
         "12",
         "0.8477416730789554",
         "0.4238708365394777"
        ],
        [
         "517",
         "ACN",
         "US Industrials",
         "2015",
         "2",
         "0.8138779034070092",
         "0.4069389517035046"
        ],
        [
         "527",
         "ACN",
         "US Industrials",
         "2015",
         "12",
         "0.6125346090099322",
         "0.3062673045049661"
        ],
        [
         "536",
         "ACN",
         "US Industrials",
         "2016",
         "9",
         "0.5526157115192305",
         "0.27630785575961525"
        ],
        [
         "544",
         "ACN",
         "US Industrials",
         "2017",
         "5",
         "0.5172074483664202",
         "0.2586037241832101"
        ],
        [
         "550",
         "ACN",
         "US Industrials",
         "2017",
         "11",
         "0.8048090699749677",
         "0.40240453498748385"
        ],
        [
         "560",
         "ACN",
         "US Industrials",
         "2018",
         "9",
         "0.6437507298908576",
         "0.3218753649454288"
        ],
        [
         "564",
         "ACN",
         "US Industrials",
         "2019",
         "1",
         "0.9816113456361865",
         "0.49080567281809323"
        ]
       ],
       "shape": {
        "columns": 6,
        "rows": 930
       }
      },
      "text/html": [
       "<div>\n",
       "<style scoped>\n",
       "    .dataframe tbody tr th:only-of-type {\n",
       "        vertical-align: middle;\n",
       "    }\n",
       "\n",
       "    .dataframe tbody tr th {\n",
       "        vertical-align: top;\n",
       "    }\n",
       "\n",
       "    .dataframe thead th {\n",
       "        text-align: right;\n",
       "    }\n",
       "</style>\n",
       "<table border=\"1\" class=\"dataframe\">\n",
       "  <thead>\n",
       "    <tr style=\"text-align: right;\">\n",
       "      <th></th>\n",
       "      <th>SYM_ROOT</th>\n",
       "      <th>industry</th>\n",
       "      <th>year</th>\n",
       "      <th>month</th>\n",
       "      <th>Betas</th>\n",
       "      <th>Realized_H</th>\n",
       "    </tr>\n",
       "  </thead>\n",
       "  <tbody>\n",
       "    <tr>\n",
       "      <th>4</th>\n",
       "      <td>AAPL</td>\n",
       "      <td>US Technology</td>\n",
       "      <td>2010</td>\n",
       "      <td>5</td>\n",
       "      <td>11.469401456045503</td>\n",
       "      <td>5.734701</td>\n",
       "    </tr>\n",
       "    <tr>\n",
       "      <th>67</th>\n",
       "      <td>AAPL</td>\n",
       "      <td>US Technology</td>\n",
       "      <td>2015</td>\n",
       "      <td>8</td>\n",
       "      <td>0.728213179339307</td>\n",
       "      <td>0.364107</td>\n",
       "    </tr>\n",
       "    <tr>\n",
       "      <th>97</th>\n",
       "      <td>AAPL</td>\n",
       "      <td>US Technology</td>\n",
       "      <td>2018</td>\n",
       "      <td>2</td>\n",
       "      <td>0.6139284992168421</td>\n",
       "      <td>0.306964</td>\n",
       "    </tr>\n",
       "    <tr>\n",
       "      <th>121</th>\n",
       "      <td>AAPL</td>\n",
       "      <td>US Technology</td>\n",
       "      <td>2020</td>\n",
       "      <td>2</td>\n",
       "      <td>0.7537411782020454</td>\n",
       "      <td>0.376871</td>\n",
       "    </tr>\n",
       "    <tr>\n",
       "      <th>122</th>\n",
       "      <td>AAPL</td>\n",
       "      <td>US Technology</td>\n",
       "      <td>2020</td>\n",
       "      <td>3</td>\n",
       "      <td>0.7505765646106021</td>\n",
       "      <td>0.375288</td>\n",
       "    </tr>\n",
       "    <tr>\n",
       "      <th>...</th>\n",
       "      <td>...</td>\n",
       "      <td>...</td>\n",
       "      <td>...</td>\n",
       "      <td>...</td>\n",
       "      <td>...</td>\n",
       "      <td>...</td>\n",
       "    </tr>\n",
       "    <tr>\n",
       "      <th>15250</th>\n",
       "      <td>WMT</td>\n",
       "      <td>US Consumer Discretionary</td>\n",
       "      <td>2018</td>\n",
       "      <td>12</td>\n",
       "      <td>0.6244070844211982</td>\n",
       "      <td>0.312204</td>\n",
       "    </tr>\n",
       "    <tr>\n",
       "      <th>15265</th>\n",
       "      <td>WMT</td>\n",
       "      <td>US Consumer Discretionary</td>\n",
       "      <td>2020</td>\n",
       "      <td>3</td>\n",
       "      <td>1.0741126779642438</td>\n",
       "      <td>0.537056</td>\n",
       "    </tr>\n",
       "    <tr>\n",
       "      <th>15299</th>\n",
       "      <td>WMT</td>\n",
       "      <td>US Consumer Discretionary</td>\n",
       "      <td>2023</td>\n",
       "      <td>1</td>\n",
       "      <td>0.6767466304778018</td>\n",
       "      <td>0.338373</td>\n",
       "    </tr>\n",
       "    <tr>\n",
       "      <th>15311</th>\n",
       "      <td>XOM</td>\n",
       "      <td>US Energy</td>\n",
       "      <td>2010</td>\n",
       "      <td>5</td>\n",
       "      <td>0.8256194789592809</td>\n",
       "      <td>0.41281</td>\n",
       "    </tr>\n",
       "    <tr>\n",
       "      <th>15429</th>\n",
       "      <td>XOM</td>\n",
       "      <td>US Energy</td>\n",
       "      <td>2020</td>\n",
       "      <td>3</td>\n",
       "      <td>1.1402967174172227</td>\n",
       "      <td>0.570148</td>\n",
       "    </tr>\n",
       "  </tbody>\n",
       "</table>\n",
       "<p>930 rows × 6 columns</p>\n",
       "</div>"
      ],
      "text/plain": [
       "      SYM_ROOT                   industry  year  month               Betas  \\\n",
       "4         AAPL              US Technology  2010      5  11.469401456045503   \n",
       "67        AAPL              US Technology  2015      8   0.728213179339307   \n",
       "97        AAPL              US Technology  2018      2  0.6139284992168421   \n",
       "121       AAPL              US Technology  2020      2  0.7537411782020454   \n",
       "122       AAPL              US Technology  2020      3  0.7505765646106021   \n",
       "...        ...                        ...   ...    ...                 ...   \n",
       "15250      WMT  US Consumer Discretionary  2018     12  0.6244070844211982   \n",
       "15265      WMT  US Consumer Discretionary  2020      3  1.0741126779642438   \n",
       "15299      WMT  US Consumer Discretionary  2023      1  0.6767466304778018   \n",
       "15311      XOM                  US Energy  2010      5  0.8256194789592809   \n",
       "15429      XOM                  US Energy  2020      3  1.1402967174172227   \n",
       "\n",
       "      Realized_H  \n",
       "4       5.734701  \n",
       "67      0.364107  \n",
       "97      0.306964  \n",
       "121     0.376871  \n",
       "122     0.375288  \n",
       "...          ...  \n",
       "15250   0.312204  \n",
       "15265   0.537056  \n",
       "15299   0.338373  \n",
       "15311    0.41281  \n",
       "15429   0.570148  \n",
       "\n",
       "[930 rows x 6 columns]"
      ]
     },
     "execution_count": 135,
     "metadata": {},
     "output_type": "execute_result"
    }
   ],
   "source": [
    "betas[betas['Betas']>=0.5]"
   ]
  },
  {
   "cell_type": "code",
   "execution_count": 136,
   "metadata": {},
   "outputs": [
    {
     "data": {
      "application/vnd.microsoft.datawrangler.viewer.v0+json": {
       "columns": [
        {
         "name": "index",
         "rawType": "int64",
         "type": "integer"
        },
        {
         "name": "industry",
         "rawType": "object",
         "type": "string"
        },
        {
         "name": "mean",
         "rawType": "object",
         "type": "unknown"
        },
        {
         "name": "std",
         "rawType": "float64",
         "type": "float"
        }
       ],
       "conversionMethod": "pd.DataFrame",
       "ref": "c8e82f90-0138-476f-aca4-bd878e5c83be",
       "rows": [
        [
         "0",
         "US Consumer Discretionary",
         "0.08480475389704595",
         "0.18847264643595732"
        ],
        [
         "1",
         "US Consumer Staples",
         "0.09675052819849413",
         "0.15423168712505186"
        ],
        [
         "2",
         "US Energy",
         "0.0820620571060248",
         "0.0987271777746237"
        ],
        [
         "3",
         "US Financials",
         "0.0745738181215494",
         "0.08335053260801817"
        ],
        [
         "4",
         "US Healthcare",
         "0.10125651149722258",
         "0.12060700555575965"
        ],
        [
         "5",
         "US Industrials",
         "0.1111892822704113",
         "0.15315065111491108"
        ],
        [
         "6",
         "US Materials",
         "0.09920528411947285",
         "0.11382502818849533"
        ],
        [
         "7",
         "US Media & Communications",
         "0.08602565236123785",
         "0.21622632412731685"
        ],
        [
         "8",
         "US Real Estate & REITs",
         "0.13072522609476692",
         "0.16941700228962897"
        ],
        [
         "9",
         "US Technology",
         "0.12638861259236678",
         "0.6849178970447258"
        ],
        [
         "10",
         "US Utilities",
         "0.09857744955364527",
         "0.14252540988177353"
        ]
       ],
       "shape": {
        "columns": 3,
        "rows": 11
       }
      },
      "text/html": [
       "<div>\n",
       "<style scoped>\n",
       "    .dataframe tbody tr th:only-of-type {\n",
       "        vertical-align: middle;\n",
       "    }\n",
       "\n",
       "    .dataframe tbody tr th {\n",
       "        vertical-align: top;\n",
       "    }\n",
       "\n",
       "    .dataframe thead th {\n",
       "        text-align: right;\n",
       "    }\n",
       "</style>\n",
       "<table border=\"1\" class=\"dataframe\">\n",
       "  <thead>\n",
       "    <tr style=\"text-align: right;\">\n",
       "      <th></th>\n",
       "      <th>industry</th>\n",
       "      <th>mean</th>\n",
       "      <th>std</th>\n",
       "    </tr>\n",
       "  </thead>\n",
       "  <tbody>\n",
       "    <tr>\n",
       "      <th>0</th>\n",
       "      <td>US Consumer Discretionary</td>\n",
       "      <td>0.084805</td>\n",
       "      <td>0.188473</td>\n",
       "    </tr>\n",
       "    <tr>\n",
       "      <th>1</th>\n",
       "      <td>US Consumer Staples</td>\n",
       "      <td>0.096751</td>\n",
       "      <td>0.154232</td>\n",
       "    </tr>\n",
       "    <tr>\n",
       "      <th>2</th>\n",
       "      <td>US Energy</td>\n",
       "      <td>0.082062</td>\n",
       "      <td>0.098727</td>\n",
       "    </tr>\n",
       "    <tr>\n",
       "      <th>3</th>\n",
       "      <td>US Financials</td>\n",
       "      <td>0.074574</td>\n",
       "      <td>0.083351</td>\n",
       "    </tr>\n",
       "    <tr>\n",
       "      <th>4</th>\n",
       "      <td>US Healthcare</td>\n",
       "      <td>0.101257</td>\n",
       "      <td>0.120607</td>\n",
       "    </tr>\n",
       "    <tr>\n",
       "      <th>5</th>\n",
       "      <td>US Industrials</td>\n",
       "      <td>0.111189</td>\n",
       "      <td>0.153151</td>\n",
       "    </tr>\n",
       "    <tr>\n",
       "      <th>6</th>\n",
       "      <td>US Materials</td>\n",
       "      <td>0.099205</td>\n",
       "      <td>0.113825</td>\n",
       "    </tr>\n",
       "    <tr>\n",
       "      <th>7</th>\n",
       "      <td>US Media &amp; Communications</td>\n",
       "      <td>0.086026</td>\n",
       "      <td>0.216226</td>\n",
       "    </tr>\n",
       "    <tr>\n",
       "      <th>8</th>\n",
       "      <td>US Real Estate &amp; REITs</td>\n",
       "      <td>0.130725</td>\n",
       "      <td>0.169417</td>\n",
       "    </tr>\n",
       "    <tr>\n",
       "      <th>9</th>\n",
       "      <td>US Technology</td>\n",
       "      <td>0.126389</td>\n",
       "      <td>0.684918</td>\n",
       "    </tr>\n",
       "    <tr>\n",
       "      <th>10</th>\n",
       "      <td>US Utilities</td>\n",
       "      <td>0.098577</td>\n",
       "      <td>0.142525</td>\n",
       "    </tr>\n",
       "  </tbody>\n",
       "</table>\n",
       "</div>"
      ],
      "text/plain": [
       "                     industry      mean       std\n",
       "0   US Consumer Discretionary  0.084805  0.188473\n",
       "1         US Consumer Staples  0.096751  0.154232\n",
       "2                   US Energy  0.082062  0.098727\n",
       "3               US Financials  0.074574  0.083351\n",
       "4               US Healthcare  0.101257  0.120607\n",
       "5              US Industrials  0.111189  0.153151\n",
       "6                US Materials  0.099205  0.113825\n",
       "7   US Media & Communications  0.086026  0.216226\n",
       "8      US Real Estate & REITs  0.130725  0.169417\n",
       "9               US Technology  0.126389  0.684918\n",
       "10               US Utilities  0.098577  0.142525"
      ]
     },
     "execution_count": 136,
     "metadata": {},
     "output_type": "execute_result"
    }
   ],
   "source": [
    "industry_H=betas.groupby(['industry'])['Realized_H'].agg(mean='mean', std='std').reset_index()\n",
    "industry_H"
   ]
  },
  {
   "cell_type": "code",
   "execution_count": 137,
   "metadata": {},
   "outputs": [
    {
     "data": {
      "application/vnd.microsoft.datawrangler.viewer.v0+json": {
       "columns": [
        {
         "name": "index",
         "rawType": "int64",
         "type": "integer"
        },
        {
         "name": "SYM_ROOT",
         "rawType": "object",
         "type": "string"
        },
        {
         "name": "industry",
         "rawType": "object",
         "type": "string"
        },
        {
         "name": "year",
         "rawType": "int32",
         "type": "integer"
        },
        {
         "name": "month",
         "rawType": "int32",
         "type": "integer"
        },
        {
         "name": "Betas",
         "rawType": "object",
         "type": "unknown"
        },
        {
         "name": "Realized_H",
         "rawType": "object",
         "type": "unknown"
        }
       ],
       "conversionMethod": "pd.DataFrame",
       "ref": "f395de8a-ec67-4d72-b6b8-ea81aad50c33",
       "rows": [
        [
         "0",
         "AAPL",
         "US Technology",
         "2010",
         "1",
         "0.27544088153898666",
         "0.13772044076949333"
        ],
        [
         "1",
         "AAPL",
         "US Technology",
         "2010",
         "2",
         "0.26158834513437185",
         "0.13079417256718592"
        ],
        [
         "2",
         "AAPL",
         "US Technology",
         "2010",
         "3",
         "0.1420987558389767",
         "0.07104937791948834"
        ],
        [
         "3",
         "AAPL",
         "US Technology",
         "2010",
         "4",
         "0.27536603200850096",
         "0.13768301600425048"
        ],
        [
         "4",
         "AAPL",
         "US Technology",
         "2010",
         "5",
         "11.469401456045503",
         "5.7347007280227515"
        ],
        [
         "5",
         "AAPL",
         "US Technology",
         "2010",
         "6",
         "0.1800650946237241",
         "0.09003254731186205"
        ],
        [
         "6",
         "AAPL",
         "US Technology",
         "2010",
         "7",
         "0.0742219638871705",
         "0.03711098194358525"
        ],
        [
         "7",
         "AAPL",
         "US Technology",
         "2010",
         "8",
         "0.03686090848285825",
         "0.018430454241429126"
        ],
        [
         "8",
         "AAPL",
         "US Technology",
         "2010",
         "9",
         "0.2578511788391915",
         "0.12892558941959575"
        ],
        [
         "9",
         "AAPL",
         "US Technology",
         "2010",
         "10",
         "0.06617835702483016",
         "0.03308917851241508"
        ],
        [
         "10",
         "AAPL",
         "US Technology",
         "2010",
         "11",
         "0.07751341812634421",
         "0.03875670906317211"
        ],
        [
         "11",
         "AAPL",
         "US Technology",
         "2010",
         "12",
         "0.060093239959981476",
         "0.030046619979990738"
        ],
        [
         "12",
         "AAPL",
         "US Technology",
         "2011",
         "1",
         "0.15251534126750094",
         "0.07625767063375047"
        ],
        [
         "13",
         "AAPL",
         "US Technology",
         "2011",
         "2",
         "0.13950795410014905",
         "0.06975397705007452"
        ],
        [
         "14",
         "AAPL",
         "US Technology",
         "2011",
         "3",
         "0.1188790546330482",
         "0.0594395273165241"
        ],
        [
         "15",
         "AAPL",
         "US Technology",
         "2011",
         "4",
         "0.04351419739559019",
         "0.021757098697795095"
        ],
        [
         "16",
         "AAPL",
         "US Technology",
         "2011",
         "5",
         "0.05725029715754628",
         "0.02862514857877314"
        ],
        [
         "17",
         "AAPL",
         "US Technology",
         "2011",
         "6",
         "0.048516947328949865",
         "0.024258473664474933"
        ],
        [
         "18",
         "AAPL",
         "US Technology",
         "2011",
         "7",
         "0.0636832378788597",
         "0.03184161893942985"
        ],
        [
         "19",
         "AAPL",
         "US Technology",
         "2011",
         "8",
         "0.23978802067451727",
         "0.11989401033725863"
        ],
        [
         "20",
         "AAPL",
         "US Technology",
         "2011",
         "9",
         "0.1726830202853068",
         "0.0863415101426534"
        ],
        [
         "21",
         "AAPL",
         "US Technology",
         "2011",
         "10",
         "0.25573293831352883",
         "0.12786646915676442"
        ],
        [
         "22",
         "AAPL",
         "US Technology",
         "2011",
         "11",
         "0.04443165700191172",
         "0.02221582850095586"
        ],
        [
         "23",
         "AAPL",
         "US Technology",
         "2011",
         "12",
         "0.04637707297105598",
         "0.02318853648552799"
        ],
        [
         "24",
         "AAPL",
         "US Technology",
         "2012",
         "1",
         "0.050990999010395305",
         "0.025495499505197652"
        ],
        [
         "25",
         "AAPL",
         "US Technology",
         "2012",
         "2",
         "0.19171200454428017",
         "0.09585600227214008"
        ],
        [
         "26",
         "AAPL",
         "US Technology",
         "2012",
         "3",
         "0.18311601213365258",
         "0.09155800606682629"
        ],
        [
         "27",
         "AAPL",
         "US Technology",
         "2012",
         "4",
         "0.2730568458742076",
         "0.1365284229371038"
        ],
        [
         "28",
         "AAPL",
         "US Technology",
         "2012",
         "5",
         "0.0616320608249014",
         "0.0308160304124507"
        ],
        [
         "29",
         "AAPL",
         "US Technology",
         "2012",
         "6",
         "0.11045338098745064",
         "0.05522669049372532"
        ],
        [
         "30",
         "AAPL",
         "US Technology",
         "2012",
         "7",
         "0.05400056397722655",
         "0.027000281988613276"
        ],
        [
         "31",
         "AAPL",
         "US Technology",
         "2012",
         "8",
         "0.16695970910987215",
         "0.08347985455493608"
        ],
        [
         "32",
         "AAPL",
         "US Technology",
         "2012",
         "9",
         "0.13975395336755272",
         "0.06987697668377636"
        ],
        [
         "33",
         "AAPL",
         "US Technology",
         "2012",
         "10",
         "0.0824638607064922",
         "0.0412319303532461"
        ],
        [
         "34",
         "AAPL",
         "US Technology",
         "2012",
         "11",
         "0.09421596641478838",
         "0.04710798320739419"
        ],
        [
         "35",
         "AAPL",
         "US Technology",
         "2012",
         "12",
         "0.09875823692215714",
         "0.04937911846107857"
        ],
        [
         "36",
         "AAPL",
         "US Technology",
         "2013",
         "1",
         "0.06282231045030727",
         "0.031411155225153635"
        ],
        [
         "37",
         "AAPL",
         "US Technology",
         "2013",
         "2",
         "0.07126637529461735",
         "0.035633187647308676"
        ],
        [
         "38",
         "AAPL",
         "US Technology",
         "2013",
         "3",
         "0.044532374579752274",
         "0.022266187289876137"
        ],
        [
         "39",
         "AAPL",
         "US Technology",
         "2013",
         "4",
         "0.10701669565862078",
         "0.05350834782931039"
        ],
        [
         "40",
         "AAPL",
         "US Technology",
         "2013",
         "5",
         "0.07114792598392153",
         "0.035573962991960764"
        ],
        [
         "41",
         "AAPL",
         "US Technology",
         "2013",
         "6",
         "0.0276759623966282",
         "0.0138379811983141"
        ],
        [
         "42",
         "AAPL",
         "US Technology",
         "2013",
         "7",
         "0.051701826071695704",
         "0.025850913035847852"
        ],
        [
         "43",
         "AAPL",
         "US Technology",
         "2013",
         "8",
         "0.07717180622879061",
         "0.038585903114395304"
        ],
        [
         "44",
         "AAPL",
         "US Technology",
         "2013",
         "9",
         "0.07564949217079521",
         "0.037824746085397605"
        ],
        [
         "45",
         "AAPL",
         "US Technology",
         "2013",
         "10",
         "0.13775914612849186",
         "0.06887957306424593"
        ],
        [
         "46",
         "AAPL",
         "US Technology",
         "2013",
         "11",
         "0.1541410322480362",
         "0.0770705161240181"
        ],
        [
         "47",
         "AAPL",
         "US Technology",
         "2013",
         "12",
         "0.059775105551893956",
         "0.029887552775946978"
        ],
        [
         "48",
         "AAPL",
         "US Technology",
         "2014",
         "1",
         "0.1328684390209851",
         "0.06643421951049255"
        ],
        [
         "49",
         "AAPL",
         "US Technology",
         "2014",
         "2",
         "0.12287485868621281",
         "0.061437429343106406"
        ]
       ],
       "shape": {
        "columns": 6,
        "rows": 15471
       }
      },
      "text/html": [
       "<div>\n",
       "<style scoped>\n",
       "    .dataframe tbody tr th:only-of-type {\n",
       "        vertical-align: middle;\n",
       "    }\n",
       "\n",
       "    .dataframe tbody tr th {\n",
       "        vertical-align: top;\n",
       "    }\n",
       "\n",
       "    .dataframe thead th {\n",
       "        text-align: right;\n",
       "    }\n",
       "</style>\n",
       "<table border=\"1\" class=\"dataframe\">\n",
       "  <thead>\n",
       "    <tr style=\"text-align: right;\">\n",
       "      <th></th>\n",
       "      <th>SYM_ROOT</th>\n",
       "      <th>industry</th>\n",
       "      <th>year</th>\n",
       "      <th>month</th>\n",
       "      <th>Betas</th>\n",
       "      <th>Realized_H</th>\n",
       "    </tr>\n",
       "  </thead>\n",
       "  <tbody>\n",
       "    <tr>\n",
       "      <th>0</th>\n",
       "      <td>AAPL</td>\n",
       "      <td>US Technology</td>\n",
       "      <td>2010</td>\n",
       "      <td>1</td>\n",
       "      <td>0.27544088153898666</td>\n",
       "      <td>0.13772</td>\n",
       "    </tr>\n",
       "    <tr>\n",
       "      <th>1</th>\n",
       "      <td>AAPL</td>\n",
       "      <td>US Technology</td>\n",
       "      <td>2010</td>\n",
       "      <td>2</td>\n",
       "      <td>0.26158834513437185</td>\n",
       "      <td>0.130794</td>\n",
       "    </tr>\n",
       "    <tr>\n",
       "      <th>2</th>\n",
       "      <td>AAPL</td>\n",
       "      <td>US Technology</td>\n",
       "      <td>2010</td>\n",
       "      <td>3</td>\n",
       "      <td>0.1420987558389767</td>\n",
       "      <td>0.071049</td>\n",
       "    </tr>\n",
       "    <tr>\n",
       "      <th>3</th>\n",
       "      <td>AAPL</td>\n",
       "      <td>US Technology</td>\n",
       "      <td>2010</td>\n",
       "      <td>4</td>\n",
       "      <td>0.27536603200850096</td>\n",
       "      <td>0.137683</td>\n",
       "    </tr>\n",
       "    <tr>\n",
       "      <th>4</th>\n",
       "      <td>AAPL</td>\n",
       "      <td>US Technology</td>\n",
       "      <td>2010</td>\n",
       "      <td>5</td>\n",
       "      <td>11.469401456045503</td>\n",
       "      <td>5.734701</td>\n",
       "    </tr>\n",
       "    <tr>\n",
       "      <th>...</th>\n",
       "      <td>...</td>\n",
       "      <td>...</td>\n",
       "      <td>...</td>\n",
       "      <td>...</td>\n",
       "      <td>...</td>\n",
       "      <td>...</td>\n",
       "    </tr>\n",
       "    <tr>\n",
       "      <th>15466</th>\n",
       "      <td>XOM</td>\n",
       "      <td>US Energy</td>\n",
       "      <td>2023</td>\n",
       "      <td>4</td>\n",
       "      <td>0.04711815985121362</td>\n",
       "      <td>0.023559</td>\n",
       "    </tr>\n",
       "    <tr>\n",
       "      <th>15467</th>\n",
       "      <td>XOM</td>\n",
       "      <td>US Energy</td>\n",
       "      <td>2023</td>\n",
       "      <td>5</td>\n",
       "      <td>0.03321159773896469</td>\n",
       "      <td>0.016606</td>\n",
       "    </tr>\n",
       "    <tr>\n",
       "      <th>15468</th>\n",
       "      <td>XOM</td>\n",
       "      <td>US Energy</td>\n",
       "      <td>2023</td>\n",
       "      <td>6</td>\n",
       "      <td>0.1050287118205106</td>\n",
       "      <td>0.052514</td>\n",
       "    </tr>\n",
       "    <tr>\n",
       "      <th>15469</th>\n",
       "      <td>XOM</td>\n",
       "      <td>US Energy</td>\n",
       "      <td>2023</td>\n",
       "      <td>7</td>\n",
       "      <td>0.1370810235268246</td>\n",
       "      <td>0.068541</td>\n",
       "    </tr>\n",
       "    <tr>\n",
       "      <th>15470</th>\n",
       "      <td>XOM</td>\n",
       "      <td>US Energy</td>\n",
       "      <td>2023</td>\n",
       "      <td>8</td>\n",
       "      <td>0.02347779422565235</td>\n",
       "      <td>0.011739</td>\n",
       "    </tr>\n",
       "  </tbody>\n",
       "</table>\n",
       "<p>15471 rows × 6 columns</p>\n",
       "</div>"
      ],
      "text/plain": [
       "      SYM_ROOT       industry  year  month                Betas Realized_H\n",
       "0         AAPL  US Technology  2010      1  0.27544088153898666    0.13772\n",
       "1         AAPL  US Technology  2010      2  0.26158834513437185   0.130794\n",
       "2         AAPL  US Technology  2010      3   0.1420987558389767   0.071049\n",
       "3         AAPL  US Technology  2010      4  0.27536603200850096   0.137683\n",
       "4         AAPL  US Technology  2010      5   11.469401456045503   5.734701\n",
       "...        ...            ...   ...    ...                  ...        ...\n",
       "15466      XOM      US Energy  2023      4  0.04711815985121362   0.023559\n",
       "15467      XOM      US Energy  2023      5  0.03321159773896469   0.016606\n",
       "15468      XOM      US Energy  2023      6   0.1050287118205106   0.052514\n",
       "15469      XOM      US Energy  2023      7   0.1370810235268246   0.068541\n",
       "15470      XOM      US Energy  2023      8  0.02347779422565235   0.011739\n",
       "\n",
       "[15471 rows x 6 columns]"
      ]
     },
     "execution_count": 137,
     "metadata": {},
     "output_type": "execute_result"
    }
   ],
   "source": [
    "betas"
   ]
  },
  {
   "cell_type": "code",
   "execution_count": 138,
   "metadata": {},
   "outputs": [
    {
     "data": {
      "application/vnd.microsoft.datawrangler.viewer.v0+json": {
       "columns": [
        {
         "name": "index",
         "rawType": "int64",
         "type": "integer"
        },
        {
         "name": "date",
         "rawType": "datetime64[ns]",
         "type": "datetime"
        },
        {
         "name": "TICKER",
         "rawType": "object",
         "type": "unknown"
        },
        {
         "name": "PRC",
         "rawType": "float64",
         "type": "float"
        },
        {
         "name": "year",
         "rawType": "int32",
         "type": "integer"
        },
        {
         "name": "month",
         "rawType": "int32",
         "type": "integer"
        }
       ],
       "conversionMethod": "pd.DataFrame",
       "ref": "0c375cc5-5d3f-4d5b-96bb-f88450a38a7e",
       "rows": [
        [
         "0",
         "2010-01-29 00:00:00",
         "ORCL",
         "23.06",
         "2010",
         "1"
        ],
        [
         "1",
         "2010-02-26 00:00:00",
         "ORCL",
         "24.65",
         "2010",
         "2"
        ],
        [
         "2",
         "2010-03-31 00:00:00",
         "ORCL",
         "25.71",
         "2010",
         "3"
        ],
        [
         "3",
         "2010-04-30 00:00:00",
         "ORCL",
         "25.8675",
         "2010",
         "4"
        ],
        [
         "4",
         "2010-05-28 00:00:00",
         "ORCL",
         "22.57",
         "2010",
         "5"
        ],
        [
         "5",
         "2010-06-30 00:00:00",
         "ORCL",
         "21.46",
         "2010",
         "6"
        ],
        [
         "6",
         "2010-07-30 00:00:00",
         "ORCL",
         "23.64",
         "2010",
         "7"
        ],
        [
         "7",
         "2010-08-31 00:00:00",
         "ORCL",
         "21.845",
         "2010",
         "8"
        ],
        [
         "8",
         "2010-09-30 00:00:00",
         "ORCL",
         "26.85",
         "2010",
         "9"
        ],
        [
         "9",
         "2010-10-29 00:00:00",
         "ORCL",
         "29.38",
         "2010",
         "10"
        ],
        [
         "10",
         "2010-11-30 00:00:00",
         "ORCL",
         "27.045",
         "2010",
         "11"
        ],
        [
         "11",
         "2010-12-31 00:00:00",
         "ORCL",
         "31.3",
         "2010",
         "12"
        ],
        [
         "12",
         "2011-01-31 00:00:00",
         "ORCL",
         "32.03",
         "2011",
         "1"
        ],
        [
         "13",
         "2011-02-28 00:00:00",
         "ORCL",
         "32.9",
         "2011",
         "2"
        ],
        [
         "14",
         "2011-03-31 00:00:00",
         "ORCL",
         "33.4325",
         "2011",
         "3"
        ],
        [
         "15",
         "2011-04-29 00:00:00",
         "ORCL",
         "35.96",
         "2011",
         "4"
        ],
        [
         "16",
         "2011-05-31 00:00:00",
         "ORCL",
         "34.22",
         "2011",
         "5"
        ],
        [
         "17",
         "2011-06-30 00:00:00",
         "ORCL",
         "32.91",
         "2011",
         "6"
        ],
        [
         "18",
         "2011-07-29 00:00:00",
         "ORCL",
         "30.58",
         "2011",
         "7"
        ],
        [
         "19",
         "2011-08-31 00:00:00",
         "ORCL",
         "28.07",
         "2011",
         "8"
        ],
        [
         "20",
         "2011-09-30 00:00:00",
         "ORCL",
         "28.74",
         "2011",
         "9"
        ],
        [
         "21",
         "2011-10-31 00:00:00",
         "ORCL",
         "32.77",
         "2011",
         "10"
        ],
        [
         "22",
         "2011-11-30 00:00:00",
         "ORCL",
         "31.35",
         "2011",
         "11"
        ],
        [
         "23",
         "2011-12-30 00:00:00",
         "ORCL",
         "25.65",
         "2011",
         "12"
        ],
        [
         "24",
         "2012-01-31 00:00:00",
         "ORCL",
         "28.21",
         "2012",
         "1"
        ],
        [
         "25",
         "2012-02-29 00:00:00",
         "ORCL",
         "29.255",
         "2012",
         "2"
        ],
        [
         "26",
         "2012-03-30 00:00:00",
         "ORCL",
         "29.16",
         "2012",
         "3"
        ],
        [
         "27",
         "2012-04-30 00:00:00",
         "ORCL",
         "29.4",
         "2012",
         "4"
        ],
        [
         "28",
         "2012-05-31 00:00:00",
         "ORCL",
         "26.47",
         "2012",
         "5"
        ],
        [
         "29",
         "2012-06-29 00:00:00",
         "ORCL",
         "29.7",
         "2012",
         "6"
        ],
        [
         "30",
         "2012-07-31 00:00:00",
         "ORCL",
         "30.2",
         "2012",
         "7"
        ],
        [
         "31",
         "2012-08-31 00:00:00",
         "ORCL",
         "31.65",
         "2012",
         "8"
        ],
        [
         "32",
         "2012-09-28 00:00:00",
         "ORCL",
         "31.46",
         "2012",
         "9"
        ],
        [
         "33",
         "2012-10-31 00:00:00",
         "ORCL",
         "31.08",
         "2012",
         "10"
        ],
        [
         "34",
         "2012-11-30 00:00:00",
         "ORCL",
         "32.175",
         "2012",
         "11"
        ],
        [
         "35",
         "2012-12-31 00:00:00",
         "ORCL",
         "33.32",
         "2012",
         "12"
        ],
        [
         "36",
         "2013-01-31 00:00:00",
         "ORCL",
         "35.51",
         "2013",
         "1"
        ],
        [
         "37",
         "2013-02-28 00:00:00",
         "ORCL",
         "34.24",
         "2013",
         "2"
        ],
        [
         "38",
         "2013-03-28 00:00:00",
         "ORCL",
         "32.33",
         "2013",
         "3"
        ],
        [
         "39",
         "2013-04-30 00:00:00",
         "ORCL",
         "32.78",
         "2013",
         "4"
        ],
        [
         "40",
         "2013-05-31 00:00:00",
         "ORCL",
         "33.78",
         "2013",
         "5"
        ],
        [
         "41",
         "2013-06-28 00:00:00",
         "ORCL",
         "30.71",
         "2013",
         "6"
        ],
        [
         "42",
         "2013-07-31 00:00:00",
         "ORCL",
         "32.35",
         "2013",
         "7"
        ],
        [
         "43",
         "2013-08-30 00:00:00",
         "ORCL",
         "31.86",
         "2013",
         "8"
        ],
        [
         "44",
         "2013-09-30 00:00:00",
         "ORCL",
         "33.17",
         "2013",
         "9"
        ],
        [
         "45",
         "2013-10-31 00:00:00",
         "ORCL",
         "33.5",
         "2013",
         "10"
        ],
        [
         "46",
         "2013-11-29 00:00:00",
         "ORCL",
         "35.29",
         "2013",
         "11"
        ],
        [
         "47",
         "2013-12-31 00:00:00",
         "ORCL",
         "38.26",
         "2013",
         "12"
        ],
        [
         "48",
         "2014-01-31 00:00:00",
         "ORCL",
         "36.9",
         "2014",
         "1"
        ],
        [
         "49",
         "2014-02-28 00:00:00",
         "ORCL",
         "39.11",
         "2014",
         "2"
        ]
       ],
       "shape": {
        "columns": 5,
        "rows": 17757
       }
      },
      "text/html": [
       "<div>\n",
       "<style scoped>\n",
       "    .dataframe tbody tr th:only-of-type {\n",
       "        vertical-align: middle;\n",
       "    }\n",
       "\n",
       "    .dataframe tbody tr th {\n",
       "        vertical-align: top;\n",
       "    }\n",
       "\n",
       "    .dataframe thead th {\n",
       "        text-align: right;\n",
       "    }\n",
       "</style>\n",
       "<table border=\"1\" class=\"dataframe\">\n",
       "  <thead>\n",
       "    <tr style=\"text-align: right;\">\n",
       "      <th></th>\n",
       "      <th>date</th>\n",
       "      <th>TICKER</th>\n",
       "      <th>PRC</th>\n",
       "      <th>year</th>\n",
       "      <th>month</th>\n",
       "    </tr>\n",
       "  </thead>\n",
       "  <tbody>\n",
       "    <tr>\n",
       "      <th>0</th>\n",
       "      <td>2010-01-29</td>\n",
       "      <td>ORCL</td>\n",
       "      <td>23.06000</td>\n",
       "      <td>2010</td>\n",
       "      <td>1</td>\n",
       "    </tr>\n",
       "    <tr>\n",
       "      <th>1</th>\n",
       "      <td>2010-02-26</td>\n",
       "      <td>ORCL</td>\n",
       "      <td>24.65000</td>\n",
       "      <td>2010</td>\n",
       "      <td>2</td>\n",
       "    </tr>\n",
       "    <tr>\n",
       "      <th>2</th>\n",
       "      <td>2010-03-31</td>\n",
       "      <td>ORCL</td>\n",
       "      <td>25.71000</td>\n",
       "      <td>2010</td>\n",
       "      <td>3</td>\n",
       "    </tr>\n",
       "    <tr>\n",
       "      <th>3</th>\n",
       "      <td>2010-04-30</td>\n",
       "      <td>ORCL</td>\n",
       "      <td>25.86750</td>\n",
       "      <td>2010</td>\n",
       "      <td>4</td>\n",
       "    </tr>\n",
       "    <tr>\n",
       "      <th>4</th>\n",
       "      <td>2010-05-28</td>\n",
       "      <td>ORCL</td>\n",
       "      <td>22.57000</td>\n",
       "      <td>2010</td>\n",
       "      <td>5</td>\n",
       "    </tr>\n",
       "    <tr>\n",
       "      <th>...</th>\n",
       "      <td>...</td>\n",
       "      <td>...</td>\n",
       "      <td>...</td>\n",
       "      <td>...</td>\n",
       "      <td>...</td>\n",
       "    </tr>\n",
       "    <tr>\n",
       "      <th>17752</th>\n",
       "      <td>2023-04-28</td>\n",
       "      <td>TSLA</td>\n",
       "      <td>164.31000</td>\n",
       "      <td>2023</td>\n",
       "      <td>4</td>\n",
       "    </tr>\n",
       "    <tr>\n",
       "      <th>17753</th>\n",
       "      <td>2023-05-31</td>\n",
       "      <td>TSLA</td>\n",
       "      <td>203.92999</td>\n",
       "      <td>2023</td>\n",
       "      <td>5</td>\n",
       "    </tr>\n",
       "    <tr>\n",
       "      <th>17754</th>\n",
       "      <td>2023-06-30</td>\n",
       "      <td>TSLA</td>\n",
       "      <td>261.76999</td>\n",
       "      <td>2023</td>\n",
       "      <td>6</td>\n",
       "    </tr>\n",
       "    <tr>\n",
       "      <th>17755</th>\n",
       "      <td>2023-07-31</td>\n",
       "      <td>TSLA</td>\n",
       "      <td>267.42999</td>\n",
       "      <td>2023</td>\n",
       "      <td>7</td>\n",
       "    </tr>\n",
       "    <tr>\n",
       "      <th>17756</th>\n",
       "      <td>2023-08-31</td>\n",
       "      <td>TSLA</td>\n",
       "      <td>258.07999</td>\n",
       "      <td>2023</td>\n",
       "      <td>8</td>\n",
       "    </tr>\n",
       "  </tbody>\n",
       "</table>\n",
       "<p>17757 rows × 5 columns</p>\n",
       "</div>"
      ],
      "text/plain": [
       "            date TICKER        PRC  year  month\n",
       "0     2010-01-29   ORCL   23.06000  2010      1\n",
       "1     2010-02-26   ORCL   24.65000  2010      2\n",
       "2     2010-03-31   ORCL   25.71000  2010      3\n",
       "3     2010-04-30   ORCL   25.86750  2010      4\n",
       "4     2010-05-28   ORCL   22.57000  2010      5\n",
       "...          ...    ...        ...   ...    ...\n",
       "17752 2023-04-28   TSLA  164.31000  2023      4\n",
       "17753 2023-05-31   TSLA  203.92999  2023      5\n",
       "17754 2023-06-30   TSLA  261.76999  2023      6\n",
       "17755 2023-07-31   TSLA  267.42999  2023      7\n",
       "17756 2023-08-31   TSLA  258.07999  2023      8\n",
       "\n",
       "[17757 rows x 5 columns]"
      ]
     },
     "execution_count": 138,
     "metadata": {},
     "output_type": "execute_result"
    }
   ],
   "source": [
    "ticker_prices = pd.read_csv('monthly_ticker_prices.csv')\n",
    "ticker_prices=ticker_prices[['date', 'TICKER', 'PRC']]\n",
    "ticker_prices['date']=pd.to_datetime(ticker_prices['date'])\n",
    "ticker_prices['year']=ticker_prices['date'].dt.year\n",
    "ticker_prices['month']=ticker_prices['date'].dt.month\n",
    "ticker_prices"
   ]
  },
  {
   "cell_type": "code",
   "execution_count": 140,
   "metadata": {},
   "outputs": [
    {
     "data": {
      "application/vnd.microsoft.datawrangler.viewer.v0+json": {
       "columns": [
        {
         "name": "index",
         "rawType": "int64",
         "type": "integer"
        },
        {
         "name": "Realized_H",
         "rawType": "object",
         "type": "unknown"
        },
        {
         "name": "date",
         "rawType": "datetime64[ns]",
         "type": "datetime"
        },
        {
         "name": "ticker",
         "rawType": "object",
         "type": "string"
        },
        {
         "name": "price",
         "rawType": "float64",
         "type": "float"
        }
       ],
       "conversionMethod": "pd.DataFrame",
       "ref": "f495da10-0eb1-4ded-b492-e0c47f835ce2",
       "rows": [
        [
         "0",
         "0.13772044076949333",
         "2010-01-29 00:00:00",
         "AAPL",
         "192.063"
        ],
        [
         "1",
         "0.13079417256718592",
         "2010-02-26 00:00:00",
         "AAPL",
         "204.62"
        ],
        [
         "2",
         "0.07104937791948834",
         "2010-03-31 00:00:00",
         "AAPL",
         "235.0"
        ],
        [
         "3",
         "0.13768301600425048",
         "2010-04-30 00:00:00",
         "AAPL",
         "261.09"
        ],
        [
         "4",
         "5.7347007280227515",
         "2010-05-28 00:00:00",
         "AAPL",
         "256.88"
        ],
        [
         "5",
         "0.09003254731186205",
         "2010-06-30 00:00:00",
         "AAPL",
         "251.53"
        ],
        [
         "6",
         "0.03711098194358525",
         "2010-07-30 00:00:00",
         "AAPL",
         "257.25"
        ],
        [
         "7",
         "0.018430454241429126",
         "2010-08-31 00:00:00",
         "AAPL",
         "243.10001"
        ],
        [
         "8",
         "0.12892558941959575",
         "2010-09-30 00:00:00",
         "AAPL",
         "283.75"
        ],
        [
         "9",
         "0.03308917851241508",
         "2010-10-29 00:00:00",
         "AAPL",
         "300.98001"
        ],
        [
         "10",
         "0.03875670906317211",
         "2010-11-30 00:00:00",
         "AAPL",
         "311.14999"
        ],
        [
         "11",
         "0.030046619979990738",
         "2010-12-31 00:00:00",
         "AAPL",
         "322.56"
        ],
        [
         "12",
         "0.07625767063375047",
         "2011-01-31 00:00:00",
         "AAPL",
         "339.32001"
        ],
        [
         "13",
         "0.06975397705007452",
         "2011-02-28 00:00:00",
         "AAPL",
         "353.20999"
        ],
        [
         "14",
         "0.0594395273165241",
         "2011-03-31 00:00:00",
         "AAPL",
         "348.50751"
        ],
        [
         "15",
         "0.021757098697795095",
         "2011-04-29 00:00:00",
         "AAPL",
         "350.13"
        ],
        [
         "16",
         "0.02862514857877314",
         "2011-05-31 00:00:00",
         "AAPL",
         "347.82999"
        ],
        [
         "17",
         "0.024258473664474933",
         "2011-06-30 00:00:00",
         "AAPL",
         "335.67001"
        ],
        [
         "18",
         "0.03184161893942985",
         "2011-07-29 00:00:00",
         "AAPL",
         "390.48001"
        ],
        [
         "19",
         "0.11989401033725863",
         "2011-08-31 00:00:00",
         "AAPL",
         "384.82999"
        ],
        [
         "20",
         "0.0863415101426534",
         "2011-09-30 00:00:00",
         "AAPL",
         "381.32001"
        ],
        [
         "21",
         "0.12786646915676442",
         "2011-10-31 00:00:00",
         "AAPL",
         "404.78"
        ],
        [
         "22",
         "0.02221582850095586",
         "2011-11-30 00:00:00",
         "AAPL",
         "382.20001"
        ],
        [
         "23",
         "0.02318853648552799",
         "2011-12-30 00:00:00",
         "AAPL",
         "405.0"
        ],
        [
         "24",
         "0.025495499505197652",
         "2012-01-31 00:00:00",
         "AAPL",
         "456.48001"
        ],
        [
         "25",
         "0.09585600227214008",
         "2012-02-29 00:00:00",
         "AAPL",
         "542.44"
        ],
        [
         "26",
         "0.09155800606682629",
         "2012-03-30 00:00:00",
         "AAPL",
         "599.54999"
        ],
        [
         "27",
         "0.1365284229371038",
         "2012-04-30 00:00:00",
         "AAPL",
         "583.97998"
        ],
        [
         "28",
         "0.0308160304124507",
         "2012-05-31 00:00:00",
         "AAPL",
         "577.72998"
        ],
        [
         "29",
         "0.05522669049372532",
         "2012-06-29 00:00:00",
         "AAPL",
         "584.0"
        ],
        [
         "30",
         "0.027000281988613276",
         "2012-07-31 00:00:00",
         "AAPL",
         "610.76001"
        ],
        [
         "31",
         "0.08347985455493608",
         "2012-08-31 00:00:00",
         "AAPL",
         "665.23999"
        ],
        [
         "32",
         "0.06987697668377636",
         "2012-09-28 00:00:00",
         "AAPL",
         "667.10498"
        ],
        [
         "33",
         "0.0412319303532461",
         "2012-10-31 00:00:00",
         "AAPL",
         "595.32001"
        ],
        [
         "34",
         "0.04710798320739419",
         "2012-11-30 00:00:00",
         "AAPL",
         "585.28003"
        ],
        [
         "35",
         "0.04937911846107857",
         "2012-12-31 00:00:00",
         "AAPL",
         "532.17291"
        ],
        [
         "36",
         "0.031411155225153635",
         "2013-01-31 00:00:00",
         "AAPL",
         "455.48999"
        ],
        [
         "37",
         "0.035633187647308676",
         "2013-02-28 00:00:00",
         "AAPL",
         "441.39999"
        ],
        [
         "38",
         "0.022266187289876137",
         "2013-03-28 00:00:00",
         "AAPL",
         "442.66"
        ],
        [
         "39",
         "0.05350834782931039",
         "2013-04-30 00:00:00",
         "AAPL",
         "442.78"
        ],
        [
         "40",
         "0.035573962991960764",
         "2013-05-31 00:00:00",
         "AAPL",
         "449.73499"
        ],
        [
         "41",
         "0.0138379811983141",
         "2013-06-28 00:00:00",
         "AAPL",
         "396.53"
        ],
        [
         "42",
         "0.025850913035847852",
         "2013-07-31 00:00:00",
         "AAPL",
         "452.53"
        ],
        [
         "43",
         "0.038585903114395304",
         "2013-08-30 00:00:00",
         "AAPL",
         "487.216"
        ],
        [
         "44",
         "0.037824746085397605",
         "2013-09-30 00:00:00",
         "AAPL",
         "476.75"
        ],
        [
         "45",
         "0.06887957306424593",
         "2013-10-31 00:00:00",
         "AAPL",
         "522.70203"
        ],
        [
         "46",
         "0.0770705161240181",
         "2013-11-29 00:00:00",
         "AAPL",
         "556.07001"
        ],
        [
         "47",
         "0.029887552775946978",
         "2013-12-31 00:00:00",
         "AAPL",
         "561.02002"
        ],
        [
         "48",
         "0.06643421951049255",
         "2014-01-31 00:00:00",
         "AAPL",
         "500.60001"
        ],
        [
         "49",
         "0.061437429343106406",
         "2014-02-28 00:00:00",
         "AAPL",
         "526.23999"
        ]
       ],
       "shape": {
        "columns": 4,
        "rows": 15462
       }
      },
      "text/html": [
       "<div>\n",
       "<style scoped>\n",
       "    .dataframe tbody tr th:only-of-type {\n",
       "        vertical-align: middle;\n",
       "    }\n",
       "\n",
       "    .dataframe tbody tr th {\n",
       "        vertical-align: top;\n",
       "    }\n",
       "\n",
       "    .dataframe thead th {\n",
       "        text-align: right;\n",
       "    }\n",
       "</style>\n",
       "<table border=\"1\" class=\"dataframe\">\n",
       "  <thead>\n",
       "    <tr style=\"text-align: right;\">\n",
       "      <th></th>\n",
       "      <th>Realized_H</th>\n",
       "      <th>date</th>\n",
       "      <th>ticker</th>\n",
       "      <th>price</th>\n",
       "    </tr>\n",
       "  </thead>\n",
       "  <tbody>\n",
       "    <tr>\n",
       "      <th>0</th>\n",
       "      <td>0.13772</td>\n",
       "      <td>2010-01-29</td>\n",
       "      <td>AAPL</td>\n",
       "      <td>192.063</td>\n",
       "    </tr>\n",
       "    <tr>\n",
       "      <th>1</th>\n",
       "      <td>0.130794</td>\n",
       "      <td>2010-02-26</td>\n",
       "      <td>AAPL</td>\n",
       "      <td>204.620</td>\n",
       "    </tr>\n",
       "    <tr>\n",
       "      <th>2</th>\n",
       "      <td>0.071049</td>\n",
       "      <td>2010-03-31</td>\n",
       "      <td>AAPL</td>\n",
       "      <td>235.000</td>\n",
       "    </tr>\n",
       "    <tr>\n",
       "      <th>3</th>\n",
       "      <td>0.137683</td>\n",
       "      <td>2010-04-30</td>\n",
       "      <td>AAPL</td>\n",
       "      <td>261.090</td>\n",
       "    </tr>\n",
       "    <tr>\n",
       "      <th>4</th>\n",
       "      <td>5.734701</td>\n",
       "      <td>2010-05-28</td>\n",
       "      <td>AAPL</td>\n",
       "      <td>256.880</td>\n",
       "    </tr>\n",
       "    <tr>\n",
       "      <th>...</th>\n",
       "      <td>...</td>\n",
       "      <td>...</td>\n",
       "      <td>...</td>\n",
       "      <td>...</td>\n",
       "    </tr>\n",
       "    <tr>\n",
       "      <th>15457</th>\n",
       "      <td>0.023559</td>\n",
       "      <td>2023-04-28</td>\n",
       "      <td>XOM</td>\n",
       "      <td>118.340</td>\n",
       "    </tr>\n",
       "    <tr>\n",
       "      <th>15458</th>\n",
       "      <td>0.016606</td>\n",
       "      <td>2023-05-31</td>\n",
       "      <td>XOM</td>\n",
       "      <td>102.180</td>\n",
       "    </tr>\n",
       "    <tr>\n",
       "      <th>15459</th>\n",
       "      <td>0.052514</td>\n",
       "      <td>2023-06-30</td>\n",
       "      <td>XOM</td>\n",
       "      <td>107.250</td>\n",
       "    </tr>\n",
       "    <tr>\n",
       "      <th>15460</th>\n",
       "      <td>0.068541</td>\n",
       "      <td>2023-07-31</td>\n",
       "      <td>XOM</td>\n",
       "      <td>107.240</td>\n",
       "    </tr>\n",
       "    <tr>\n",
       "      <th>15461</th>\n",
       "      <td>0.011739</td>\n",
       "      <td>2023-08-31</td>\n",
       "      <td>XOM</td>\n",
       "      <td>111.190</td>\n",
       "    </tr>\n",
       "  </tbody>\n",
       "</table>\n",
       "<p>15462 rows × 4 columns</p>\n",
       "</div>"
      ],
      "text/plain": [
       "      Realized_H       date ticker    price\n",
       "0        0.13772 2010-01-29   AAPL  192.063\n",
       "1       0.130794 2010-02-26   AAPL  204.620\n",
       "2       0.071049 2010-03-31   AAPL  235.000\n",
       "3       0.137683 2010-04-30   AAPL  261.090\n",
       "4       5.734701 2010-05-28   AAPL  256.880\n",
       "...          ...        ...    ...      ...\n",
       "15457   0.023559 2023-04-28    XOM  118.340\n",
       "15458   0.016606 2023-05-31    XOM  102.180\n",
       "15459   0.052514 2023-06-30    XOM  107.250\n",
       "15460   0.068541 2023-07-31    XOM  107.240\n",
       "15461   0.011739 2023-08-31    XOM  111.190\n",
       "\n",
       "[15462 rows x 4 columns]"
      ]
     },
     "execution_count": 140,
     "metadata": {},
     "output_type": "execute_result"
    }
   ],
   "source": [
    "Realized_H_Data=pd.merge(betas,ticker_prices, left_on=['SYM_ROOT','year','month'], right_on=['TICKER','year','month'], how='inner')\n",
    "Realized_H_Data.drop(['SYM_ROOT','industry','year','month','Betas'], axis=1, inplace=True)\n",
    "Realized_H_Data.rename(columns={'PRC':'price','TICKER':'ticker'}, inplace=True)\n",
    "Realized_H_Data\n"
   ]
  },
  {
   "cell_type": "code",
   "execution_count": 141,
   "metadata": {},
   "outputs": [],
   "source": [
    "# Realized_H_Data.sort_values(['ticker','date']).set_index('date').to_csv('Realized_H_Data.csv')"
   ]
  }
 ],
 "metadata": {
  "kernelspec": {
   "display_name": "Python 3",
   "language": "python",
   "name": "python3"
  },
  "language_info": {
   "codemirror_mode": {
    "name": "ipython",
    "version": 3
   },
   "file_extension": ".py",
   "mimetype": "text/x-python",
   "name": "python",
   "nbconvert_exporter": "python",
   "pygments_lexer": "ipython3",
   "version": "3.12.0"
  }
 },
 "nbformat": 4,
 "nbformat_minor": 2
}
