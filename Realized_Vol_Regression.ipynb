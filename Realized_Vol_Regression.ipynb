{
 "cells": [
  {
   "cell_type": "code",
   "execution_count": 1,
   "metadata": {},
   "outputs": [],
   "source": [
    "import pandas as pd\n",
    "import numpy as np\n",
    "from datetime import datetime\n",
    "import os   \n",
    "import sys\n",
    "import matplotlib.pyplot as plt\n",
    "from sklearn.linear_model import LinearRegression\n",
    "from scipy.optimize import minimize\n",
    "from scipy import interpolate\n",
    "from pandas.tseries.holiday import USFederalHolidayCalendar\n",
    "from pandas.tseries.offsets import CustomBusinessDay\n",
    "import warnings\n",
    "import statsmodels.api as sm\n",
    "from scipy.optimize import fsolve\n",
    "from scipy.stats import norm\n",
    "from sklearn.decomposition import PCA\n",
    "import warnings\n",
    "from scipy.optimize import fsolve\n",
    "import numpy.polynomial.polynomial as poly\n",
    "warnings.filterwarnings(action='ignore')"
   ]
  },
  {
   "cell_type": "code",
   "execution_count": 17,
   "metadata": {},
   "outputs": [],
   "source": [
    "industries = pd.read_csv('./industry.csv')"
   ]
  },
  {
   "cell_type": "code",
   "execution_count": 23,
   "metadata": {},
   "outputs": [],
   "source": [
    "industries['industry'] = industries.industry.str.replace('CRSP', '', regex=True)\n",
    "industries['industry'] = industries.industry.str.replace('Index', '', regex=True)"
   ]
  },
  {
   "cell_type": "code",
   "execution_count": 24,
   "metadata": {},
   "outputs": [
    {
     "data": {
      "text/html": [
       "<div>\n",
       "<style scoped>\n",
       "    .dataframe tbody tr th:only-of-type {\n",
       "        vertical-align: middle;\n",
       "    }\n",
       "\n",
       "    .dataframe tbody tr th {\n",
       "        vertical-align: top;\n",
       "    }\n",
       "\n",
       "    .dataframe thead th {\n",
       "        text-align: right;\n",
       "    }\n",
       "</style>\n",
       "<table border=\"1\" class=\"dataframe\">\n",
       "  <thead>\n",
       "    <tr style=\"text-align: right;\">\n",
       "      <th></th>\n",
       "      <th>industry</th>\n",
       "      <th>top_tickers</th>\n",
       "    </tr>\n",
       "  </thead>\n",
       "  <tbody>\n",
       "    <tr>\n",
       "      <th>0</th>\n",
       "      <td>US Consumer Discretionary</td>\n",
       "      <td>AMZN  TSLA  HD  WMT  MCD  BKNG  LOW  TJX  UBER...</td>\n",
       "    </tr>\n",
       "    <tr>\n",
       "      <th>1</th>\n",
       "      <td>US Consumer Staples</td>\n",
       "      <td>COST  PG  KO  PEP  PM  MO  MDLZ  CL  KMB  KVUE</td>\n",
       "    </tr>\n",
       "    <tr>\n",
       "      <th>2</th>\n",
       "      <td>US Energy</td>\n",
       "      <td>XOM  CVX  COP  EOG  WMB  OKE  SLB  KMI  PSX  LNG</td>\n",
       "    </tr>\n",
       "    <tr>\n",
       "      <th>3</th>\n",
       "      <td>US Financials</td>\n",
       "      <td>BRK.A/BRK.B  JPM  V  MA  BAC  WFC  GS  SPGI  M...</td>\n",
       "    </tr>\n",
       "    <tr>\n",
       "      <th>4</th>\n",
       "      <td>US Healthcare</td>\n",
       "      <td>LLY  UNH  JNJ  ABBV  MRK  TMO  ABT  ISRG  PFE ...</td>\n",
       "    </tr>\n",
       "    <tr>\n",
       "      <th>5</th>\n",
       "      <td>US Industrials</td>\n",
       "      <td>ACN  CAT  GE  RTX  HON  UNP  BA  ETN  ADP  LMT</td>\n",
       "    </tr>\n",
       "    <tr>\n",
       "      <th>6</th>\n",
       "      <td>US Materials</td>\n",
       "      <td>LIN  SHW  APD  ECL  FCX  NEM  VMC  MLM  DD  DOW</td>\n",
       "    </tr>\n",
       "    <tr>\n",
       "      <th>7</th>\n",
       "      <td>US Media &amp; Communications</td>\n",
       "      <td>GOOGL  META  NFLX  DIS  T  VZ  CMCSA  TMUS  EA...</td>\n",
       "    </tr>\n",
       "    <tr>\n",
       "      <th>8</th>\n",
       "      <td>US Real Estate &amp; REITs</td>\n",
       "      <td>PLD  EQIX  AMT  WELL  DLR  SPG  PSA  O  CBRE  CCI</td>\n",
       "    </tr>\n",
       "    <tr>\n",
       "      <th>9</th>\n",
       "      <td>US Technology</td>\n",
       "      <td>AAPL  MSFT  NVDA  AVGO  CRM  ORCL  NOW  CSCO  ...</td>\n",
       "    </tr>\n",
       "    <tr>\n",
       "      <th>10</th>\n",
       "      <td>US Utilities</td>\n",
       "      <td>NEE  SO  DUK  CEG  SRE  AEP  VST  D  PCG  PEG</td>\n",
       "    </tr>\n",
       "  </tbody>\n",
       "</table>\n",
       "</div>"
      ],
      "text/plain": [
       "                       industry  \\\n",
       "0    US Consumer Discretionary    \n",
       "1          US Consumer Staples    \n",
       "2                    US Energy    \n",
       "3                US Financials    \n",
       "4                US Healthcare    \n",
       "5               US Industrials    \n",
       "6                 US Materials    \n",
       "7    US Media & Communications    \n",
       "8       US Real Estate & REITs    \n",
       "9                US Technology    \n",
       "10                US Utilities    \n",
       "\n",
       "                                          top_tickers  \n",
       "0   AMZN  TSLA  HD  WMT  MCD  BKNG  LOW  TJX  UBER...  \n",
       "1      COST  PG  KO  PEP  PM  MO  MDLZ  CL  KMB  KVUE  \n",
       "2    XOM  CVX  COP  EOG  WMB  OKE  SLB  KMI  PSX  LNG  \n",
       "3   BRK.A/BRK.B  JPM  V  MA  BAC  WFC  GS  SPGI  M...  \n",
       "4   LLY  UNH  JNJ  ABBV  MRK  TMO  ABT  ISRG  PFE ...  \n",
       "5      ACN  CAT  GE  RTX  HON  UNP  BA  ETN  ADP  LMT  \n",
       "6     LIN  SHW  APD  ECL  FCX  NEM  VMC  MLM  DD  DOW  \n",
       "7   GOOGL  META  NFLX  DIS  T  VZ  CMCSA  TMUS  EA...  \n",
       "8   PLD  EQIX  AMT  WELL  DLR  SPG  PSA  O  CBRE  CCI  \n",
       "9   AAPL  MSFT  NVDA  AVGO  CRM  ORCL  NOW  CSCO  ...  \n",
       "10      NEE  SO  DUK  CEG  SRE  AEP  VST  D  PCG  PEG  "
      ]
     },
     "execution_count": 24,
     "metadata": {},
     "output_type": "execute_result"
    }
   ],
   "source": [
    "industries"
   ]
  },
  {
   "cell_type": "code",
   "execution_count": 6,
   "metadata": {},
   "outputs": [],
   "source": [
    "vols = pd.read_csv('../daily_vol_series.csv')\n",
    "vols = vols[vols['SYM_ROOT'] == vols['symbol']]"
   ]
  },
  {
   "cell_type": "code",
   "execution_count": 7,
   "metadata": {},
   "outputs": [
    {
     "data": {
      "text/plain": [
       "106"
      ]
     },
     "execution_count": 7,
     "metadata": {},
     "output_type": "execute_result"
    }
   ],
   "source": [
    "vols.SYM_ROOT.nunique()"
   ]
  },
  {
   "cell_type": "code",
   "execution_count": 9,
   "metadata": {},
   "outputs": [
    {
     "data": {
      "text/html": [
       "<div>\n",
       "<style scoped>\n",
       "    .dataframe tbody tr th:only-of-type {\n",
       "        vertical-align: middle;\n",
       "    }\n",
       "\n",
       "    .dataframe tbody tr th {\n",
       "        vertical-align: top;\n",
       "    }\n",
       "\n",
       "    .dataframe thead th {\n",
       "        text-align: right;\n",
       "    }\n",
       "</style>\n",
       "<table border=\"1\" class=\"dataframe\">\n",
       "  <thead>\n",
       "    <tr style=\"text-align: right;\">\n",
       "      <th></th>\n",
       "      <th>DATE</th>\n",
       "      <th>SYM_ROOT</th>\n",
       "      <th>symbol</th>\n",
       "      <th>ivol_t</th>\n",
       "      <th>ivol_q</th>\n",
       "      <th>month</th>\n",
       "      <th>year</th>\n",
       "      <th>ivol_q_log</th>\n",
       "    </tr>\n",
       "  </thead>\n",
       "  <tbody>\n",
       "    <tr>\n",
       "      <th>0</th>\n",
       "      <td>2010-01-04</td>\n",
       "      <td>A</td>\n",
       "      <td>A</td>\n",
       "      <td>7.760087e-08</td>\n",
       "      <td>3.188671e-09</td>\n",
       "      <td>1</td>\n",
       "      <td>2010</td>\n",
       "      <td>-19.563662</td>\n",
       "    </tr>\n",
       "    <tr>\n",
       "      <th>1</th>\n",
       "      <td>2010-01-05</td>\n",
       "      <td>A</td>\n",
       "      <td>A</td>\n",
       "      <td>4.062151e-08</td>\n",
       "      <td>1.320020e-09</td>\n",
       "      <td>1</td>\n",
       "      <td>2010</td>\n",
       "      <td>-20.445619</td>\n",
       "    </tr>\n",
       "    <tr>\n",
       "      <th>2</th>\n",
       "      <td>2010-01-06</td>\n",
       "      <td>A</td>\n",
       "      <td>A</td>\n",
       "      <td>2.296710e-08</td>\n",
       "      <td>1.239236e-09</td>\n",
       "      <td>1</td>\n",
       "      <td>2010</td>\n",
       "      <td>-20.508771</td>\n",
       "    </tr>\n",
       "    <tr>\n",
       "      <th>3</th>\n",
       "      <td>2010-01-07</td>\n",
       "      <td>A</td>\n",
       "      <td>A</td>\n",
       "      <td>2.606387e-08</td>\n",
       "      <td>1.852384e-09</td>\n",
       "      <td>1</td>\n",
       "      <td>2010</td>\n",
       "      <td>-20.106793</td>\n",
       "    </tr>\n",
       "    <tr>\n",
       "      <th>4</th>\n",
       "      <td>2010-01-08</td>\n",
       "      <td>A</td>\n",
       "      <td>A</td>\n",
       "      <td>2.244471e-08</td>\n",
       "      <td>2.353240e-09</td>\n",
       "      <td>1</td>\n",
       "      <td>2010</td>\n",
       "      <td>-19.867473</td>\n",
       "    </tr>\n",
       "  </tbody>\n",
       "</table>\n",
       "</div>"
      ],
      "text/plain": [
       "         DATE SYM_ROOT symbol        ivol_t        ivol_q  month  year  \\\n",
       "0  2010-01-04        A      A  7.760087e-08  3.188671e-09      1  2010   \n",
       "1  2010-01-05        A      A  4.062151e-08  1.320020e-09      1  2010   \n",
       "2  2010-01-06        A      A  2.296710e-08  1.239236e-09      1  2010   \n",
       "3  2010-01-07        A      A  2.606387e-08  1.852384e-09      1  2010   \n",
       "4  2010-01-08        A      A  2.244471e-08  2.353240e-09      1  2010   \n",
       "\n",
       "   ivol_q_log  \n",
       "0  -19.563662  \n",
       "1  -20.445619  \n",
       "2  -20.508771  \n",
       "3  -20.106793  \n",
       "4  -19.867473  "
      ]
     },
     "execution_count": 9,
     "metadata": {},
     "output_type": "execute_result"
    }
   ],
   "source": [
    "vols.head()"
   ]
  },
  {
   "cell_type": "code",
   "execution_count": 10,
   "metadata": {},
   "outputs": [],
   "source": [
    "vols = vols[vols['DATE'] <= '2023-08-31']"
   ]
  },
  {
   "cell_type": "code",
   "execution_count": 11,
   "metadata": {},
   "outputs": [],
   "source": [
    "vols['month'] = pd.to_datetime(vols['DATE']).dt.month\n",
    "vols['year'] = pd.to_datetime(vols['DATE']).dt.year\n",
    "vols['ivol_q_log'] = np.log(vols['ivol_q'])"
   ]
  },
  {
   "cell_type": "code",
   "execution_count": 12,
   "metadata": {},
   "outputs": [],
   "source": [
    "def moments(df):\n",
    "    final_dfs = []\n",
    "    for lag in range(1, 11):\n",
    "        tmp = df.groupby(['SYM_ROOT', 'year', 'month'])['ivol_q_log']\\\n",
    "            .apply(lambda x: (((x - x.shift(lag))**2).sum() / (x.count() - lag)) ).to_frame(f'lag{lag}_mom')\n",
    "        final_dfs.append(tmp)\n",
    "    final_df = pd.concat(final_dfs, axis=1)\n",
    "    return final_df"
   ]
  },
  {
   "cell_type": "code",
   "execution_count": 13,
   "metadata": {},
   "outputs": [],
   "source": [
    "final = moments(vols)\n",
    "final.dropna(inplace=True)"
   ]
  },
  {
   "cell_type": "code",
   "execution_count": 14,
   "metadata": {},
   "outputs": [],
   "source": [
    "betas = pd.DataFrame(columns=['Betas'], index=final.index)\n",
    "for idx,_ in final.iterrows():\n",
    "    y = final.loc[idx].values\n",
    "    X = np.log(range(1, 11)).reshape(-1,1)\n",
    "    # X = sm.add_constant(X)\n",
    "    mod = sm.OLS(y, X).fit()\n",
    "    betas.loc[idx, 'Betas'] = mod.params\n",
    "betas.reset_index(inplace=True)\n"
   ]
  },
  {
   "cell_type": "code",
   "execution_count": 16,
   "metadata": {},
   "outputs": [],
   "source": [
    "betas[betas['Betas']>=0.5]\n",
    "betas['Realized_H'] = betas['Betas'] * 0.5"
   ]
  },
  {
   "cell_type": "code",
   "execution_count": 32,
   "metadata": {},
   "outputs": [
    {
     "data": {
      "application/vnd.microsoft.datawrangler.viewer.v0+json": {
       "columns": [
        {
         "name": "index",
         "rawType": "int64",
         "type": "integer"
        },
        {
         "name": "SYM_ROOT",
         "rawType": "object",
         "type": "string"
        },
        {
         "name": "year",
         "rawType": "int32",
         "type": "integer"
        },
        {
         "name": "month",
         "rawType": "int32",
         "type": "integer"
        },
        {
         "name": "Betas",
         "rawType": "object",
         "type": "unknown"
        }
       ],
       "conversionMethod": "pd.DataFrame",
       "ref": "929fa545-b9bd-482d-be00-09acb614ee76",
       "rows": [
        [
         "0",
         "AMC",
         "2014",
         "1",
         "0.6801783537114248"
        ],
        [
         "1",
         "AMC",
         "2014",
         "2",
         "0.3044701508508652"
        ],
        [
         "2",
         "AMC",
         "2014",
         "3",
         "0.43894627795209695"
        ],
        [
         "3",
         "AMC",
         "2014",
         "4",
         "0.3677223030178472"
        ],
        [
         "4",
         "AMC",
         "2014",
         "5",
         "0.16202374674351883"
        ],
        [
         "5",
         "AMC",
         "2014",
         "6",
         "0.23204657762376438"
        ],
        [
         "6",
         "AMC",
         "2014",
         "7",
         "0.32615514134649903"
        ],
        [
         "7",
         "AMC",
         "2014",
         "8",
         "0.09359459015899961"
        ],
        [
         "8",
         "AMC",
         "2014",
         "9",
         "0.29087171434011705"
        ],
        [
         "9",
         "AMC",
         "2014",
         "10",
         "0.5528995696897088"
        ],
        [
         "10",
         "AMC",
         "2014",
         "11",
         "0.03848091109449146"
        ],
        [
         "11",
         "AMC",
         "2014",
         "12",
         "0.24970086643532965"
        ],
        [
         "12",
         "AMC",
         "2015",
         "1",
         "0.09874012774222402"
        ],
        [
         "13",
         "AMC",
         "2015",
         "2",
         "0.41004987917966274"
        ],
        [
         "14",
         "AMC",
         "2015",
         "3",
         "0.8909532496157646"
        ],
        [
         "15",
         "AMC",
         "2015",
         "4",
         "0.9481944497048647"
        ],
        [
         "16",
         "AMC",
         "2015",
         "5",
         "0.8333481763645256"
        ],
        [
         "17",
         "AMC",
         "2015",
         "6",
         "0.7311474814751208"
        ],
        [
         "18",
         "AMC",
         "2015",
         "7",
         "0.3898003945026739"
        ],
        [
         "19",
         "AMC",
         "2015",
         "8",
         "0.4106949890841388"
        ],
        [
         "20",
         "AMC",
         "2015",
         "9",
         "0.21814251029811668"
        ],
        [
         "21",
         "AMC",
         "2015",
         "10",
         "0.07924954195511244"
        ],
        [
         "22",
         "AMC",
         "2015",
         "11",
         "0.4487864138668717"
        ],
        [
         "23",
         "AMC",
         "2015",
         "12",
         "0.35742266523574323"
        ],
        [
         "24",
         "AMC",
         "2016",
         "1",
         "0.33909243205612144"
        ],
        [
         "25",
         "AMC",
         "2016",
         "2",
         "0.17234107994725434"
        ],
        [
         "26",
         "AMC",
         "2016",
         "3",
         "0.32847340615646653"
        ],
        [
         "27",
         "AMC",
         "2016",
         "4",
         "0.3437307190664314"
        ],
        [
         "28",
         "AMC",
         "2016",
         "5",
         "0.09084120848875615"
        ],
        [
         "29",
         "AMC",
         "2016",
         "6",
         "1.7322742825183397"
        ],
        [
         "30",
         "AMC",
         "2016",
         "7",
         "0.3791342362778165"
        ],
        [
         "31",
         "AMC",
         "2016",
         "8",
         "0.5566370380734076"
        ],
        [
         "32",
         "AMC",
         "2016",
         "9",
         "0.2617577328161048"
        ],
        [
         "33",
         "AMC",
         "2016",
         "10",
         "0.261440812541585"
        ],
        [
         "34",
         "AMC",
         "2016",
         "11",
         "0.40991784476668913"
        ],
        [
         "35",
         "AMC",
         "2016",
         "12",
         "0.23646473222282294"
        ],
        [
         "36",
         "AMC",
         "2017",
         "1",
         "0.21937979105555652"
        ],
        [
         "37",
         "AMC",
         "2017",
         "2",
         "0.47672854596006703"
        ],
        [
         "38",
         "AMC",
         "2017",
         "3",
         "0.14792209734384332"
        ],
        [
         "39",
         "AMC",
         "2017",
         "4",
         "0.09295473879098964"
        ],
        [
         "40",
         "AMC",
         "2017",
         "5",
         "0.12392613328073397"
        ],
        [
         "41",
         "AMC",
         "2017",
         "6",
         "0.07122416579231658"
        ],
        [
         "42",
         "AMC",
         "2017",
         "7",
         "0.05810191081497517"
        ],
        [
         "43",
         "AMC",
         "2017",
         "8",
         "0.270846602455239"
        ],
        [
         "44",
         "AMC",
         "2017",
         "9",
         "0.08970432803139866"
        ],
        [
         "45",
         "AMC",
         "2017",
         "10",
         "0.12070112268047167"
        ],
        [
         "46",
         "AMC",
         "2017",
         "11",
         "0.15270391321759275"
        ],
        [
         "47",
         "AMC",
         "2017",
         "12",
         "0.06595204099279366"
        ],
        [
         "48",
         "AMC",
         "2018",
         "1",
         "0.19410989408865795"
        ],
        [
         "49",
         "AMC",
         "2018",
         "2",
         "0.04484580281712572"
        ]
       ],
       "shape": {
        "columns": 4,
        "rows": 4819
       }
      },
      "text/html": [
       "<div>\n",
       "<style scoped>\n",
       "    .dataframe tbody tr th:only-of-type {\n",
       "        vertical-align: middle;\n",
       "    }\n",
       "\n",
       "    .dataframe tbody tr th {\n",
       "        vertical-align: top;\n",
       "    }\n",
       "\n",
       "    .dataframe thead th {\n",
       "        text-align: right;\n",
       "    }\n",
       "</style>\n",
       "<table border=\"1\" class=\"dataframe\">\n",
       "  <thead>\n",
       "    <tr style=\"text-align: right;\">\n",
       "      <th></th>\n",
       "      <th>SYM_ROOT</th>\n",
       "      <th>year</th>\n",
       "      <th>month</th>\n",
       "      <th>Betas</th>\n",
       "    </tr>\n",
       "  </thead>\n",
       "  <tbody>\n",
       "    <tr>\n",
       "      <th>0</th>\n",
       "      <td>AMC</td>\n",
       "      <td>2014</td>\n",
       "      <td>1</td>\n",
       "      <td>0.6801783537114248</td>\n",
       "    </tr>\n",
       "    <tr>\n",
       "      <th>1</th>\n",
       "      <td>AMC</td>\n",
       "      <td>2014</td>\n",
       "      <td>2</td>\n",
       "      <td>0.3044701508508652</td>\n",
       "    </tr>\n",
       "    <tr>\n",
       "      <th>2</th>\n",
       "      <td>AMC</td>\n",
       "      <td>2014</td>\n",
       "      <td>3</td>\n",
       "      <td>0.43894627795209695</td>\n",
       "    </tr>\n",
       "    <tr>\n",
       "      <th>3</th>\n",
       "      <td>AMC</td>\n",
       "      <td>2014</td>\n",
       "      <td>4</td>\n",
       "      <td>0.3677223030178472</td>\n",
       "    </tr>\n",
       "    <tr>\n",
       "      <th>4</th>\n",
       "      <td>AMC</td>\n",
       "      <td>2014</td>\n",
       "      <td>5</td>\n",
       "      <td>0.16202374674351883</td>\n",
       "    </tr>\n",
       "    <tr>\n",
       "      <th>...</th>\n",
       "      <td>...</td>\n",
       "      <td>...</td>\n",
       "      <td>...</td>\n",
       "      <td>...</td>\n",
       "    </tr>\n",
       "    <tr>\n",
       "      <th>4814</th>\n",
       "      <td>ZI</td>\n",
       "      <td>2023</td>\n",
       "      <td>3</td>\n",
       "      <td>4.1764630805925655</td>\n",
       "    </tr>\n",
       "    <tr>\n",
       "      <th>4815</th>\n",
       "      <td>ZI</td>\n",
       "      <td>2023</td>\n",
       "      <td>4</td>\n",
       "      <td>0.10833338739933156</td>\n",
       "    </tr>\n",
       "    <tr>\n",
       "      <th>4816</th>\n",
       "      <td>ZI</td>\n",
       "      <td>2023</td>\n",
       "      <td>5</td>\n",
       "      <td>0.1918529306195535</td>\n",
       "    </tr>\n",
       "    <tr>\n",
       "      <th>4817</th>\n",
       "      <td>ZI</td>\n",
       "      <td>2023</td>\n",
       "      <td>6</td>\n",
       "      <td>0.07078159863146065</td>\n",
       "    </tr>\n",
       "    <tr>\n",
       "      <th>4818</th>\n",
       "      <td>ZI</td>\n",
       "      <td>2023</td>\n",
       "      <td>7</td>\n",
       "      <td>0.1138155765796715</td>\n",
       "    </tr>\n",
       "  </tbody>\n",
       "</table>\n",
       "<p>4819 rows × 4 columns</p>\n",
       "</div>"
      ],
      "text/plain": [
       "     SYM_ROOT  year  month                Betas\n",
       "0         AMC  2014      1   0.6801783537114248\n",
       "1         AMC  2014      2   0.3044701508508652\n",
       "2         AMC  2014      3  0.43894627795209695\n",
       "3         AMC  2014      4   0.3677223030178472\n",
       "4         AMC  2014      5  0.16202374674351883\n",
       "...       ...   ...    ...                  ...\n",
       "4814       ZI  2023      3   4.1764630805925655\n",
       "4815       ZI  2023      4  0.10833338739933156\n",
       "4816       ZI  2023      5   0.1918529306195535\n",
       "4817       ZI  2023      6  0.07078159863146065\n",
       "4818       ZI  2023      7   0.1138155765796715\n",
       "\n",
       "[4819 rows x 4 columns]"
      ]
     },
     "execution_count": 32,
     "metadata": {},
     "output_type": "execute_result"
    }
   ],
   "source": [
    "betas[]"
   ]
  }
 ],
 "metadata": {
  "kernelspec": {
   "display_name": "Python 3",
   "language": "python",
   "name": "python3"
  },
  "language_info": {
   "codemirror_mode": {
    "name": "ipython",
    "version": 3
   },
   "file_extension": ".py",
   "mimetype": "text/x-python",
   "name": "python",
   "nbconvert_exporter": "python",
   "pygments_lexer": "ipython3",
   "version": "3.12.4"
  }
 },
 "nbformat": 4,
 "nbformat_minor": 2
}
