{
 "cells": [
  {
   "cell_type": "code",
   "execution_count": 16,
   "metadata": {},
   "outputs": [],
   "source": [
    "import pandas as pd\n",
    "import numpy as np\n",
    "from datetime import datetime\n",
    "import os   \n",
    "import sys\n",
    "import matplotlib.pyplot as plt\n",
    "from sklearn.linear_model import LinearRegression\n",
    "from scipy.optimize import minimize\n",
    "from scipy import interpolate\n",
    "from pandas.tseries.holiday import USFederalHolidayCalendar\n",
    "from pandas.tseries.offsets import CustomBusinessDay\n",
    "import warnings\n",
    "import statsmodels.api as sm\n",
    "from scipy.optimize import fsolve\n",
    "from scipy.stats import norm\n",
    "from sklearn.decomposition import PCA\n",
    "import warnings\n",
    "from scipy.optimize import fsolve\n",
    "import numpy.polynomial.polynomial as poly\n",
    "warnings.filterwarnings(action='ignore')"
   ]
  },
  {
   "cell_type": "code",
   "execution_count": 17,
   "metadata": {},
   "outputs": [],
   "source": [
    "tickers = pd.read_csv('top_50_tickers.csv')"
   ]
  },
  {
   "cell_type": "code",
   "execution_count": 18,
   "metadata": {},
   "outputs": [
    {
     "data": {
      "text/plain": [
       "array(['TSLA', 'NVDA', 'SMCI', 'PLTR', 'AMZN', 'META', 'BABA', 'LCID',\n",
       "       'NIO', 'IBIT', 'AMD', 'GOOGL', 'MSFT', 'APP', 'MSTR', 'HOOD',\n",
       "       'HIMS', 'F', 'GOOG', 'NKLA', 'AVGO', 'INTC', 'SOFI', 'MU', 'AMC',\n",
       "       'WMT', 'SAVE', 'GM', 'SQ', 'TSM', 'COIN', 'MARA', 'ZI', 'PYPL',\n",
       "       'ASTS', 'FSLR', 'IREN', 'BAC', 'CAVA', 'DKNG', 'NLY', 'XPEV',\n",
       "       'NYCB', 'SNOW', 'FCX', 'TEM', 'SOUN', 'VRT', 'NFLX', 'RIVN'],\n",
       "      dtype=object)"
      ]
     },
     "execution_count": 18,
     "metadata": {},
     "output_type": "execute_result"
    }
   ],
   "source": [
    "tickers.ticker.unique()"
   ]
  },
  {
   "cell_type": "code",
   "execution_count": 19,
   "metadata": {},
   "outputs": [],
   "source": [
    "vols = pd.read_csv('./daily_variance_series_wrds.csv')\n",
    "vols = vols[vols['SYM_ROOT'] == vols['symbol']]"
   ]
  },
  {
   "cell_type": "code",
   "execution_count": 20,
   "metadata": {},
   "outputs": [
    {
     "data": {
      "text/plain": [
       "48"
      ]
     },
     "execution_count": 20,
     "metadata": {},
     "output_type": "execute_result"
    }
   ],
   "source": [
    "vols.SYM_ROOT.nunique()"
   ]
  },
  {
   "cell_type": "code",
   "execution_count": 21,
   "metadata": {},
   "outputs": [],
   "source": [
    "vols['month'] = pd.to_datetime(vols['DATE']).dt.month\n",
    "vols['year'] = pd.to_datetime(vols['DATE']).dt.year\n",
    "vols['ivol_q_log'] = np.log(vols['ivol_q'])"
   ]
  },
  {
   "cell_type": "code",
   "execution_count": 22,
   "metadata": {},
   "outputs": [],
   "source": [
    "def moments(df):\n",
    "    final_dfs = []\n",
    "    for lag in range(1, 11):\n",
    "        tmp = df.groupby(['SYM_ROOT', 'year', 'month'])['ivol_q_log']\\\n",
    "            .apply(lambda x: (((x - x.shift(lag))**2).sum() / (x.count() - lag)) ).to_frame(f'lag{lag}_mom')\n",
    "        final_dfs.append(tmp)\n",
    "    final_df = pd.concat(final_dfs, axis=1)\n",
    "    return final_df"
   ]
  },
  {
   "cell_type": "code",
   "execution_count": 23,
   "metadata": {},
   "outputs": [],
   "source": [
    "final = moments(vols)\n",
    "final.dropna(inplace=True)"
   ]
  },
  {
   "cell_type": "code",
   "execution_count": 24,
   "metadata": {},
   "outputs": [],
   "source": [
    "betas = pd.DataFrame(columns=['Betas'], index=final.index)\n",
    "for idx,_ in final.iterrows():\n",
    "    y = final.loc[idx].values\n",
    "    X = np.log(range(1, 11)).reshape(-1,1)\n",
    "    # X = sm.add_constant(X)\n",
    "    mod = sm.OLS(y, X).fit()\n",
    "    betas.loc[idx, 'Betas'] = mod.params\n",
    "betas.reset_index(inplace=True)\n"
   ]
  },
  {
   "cell_type": "code",
   "execution_count": 37,
   "metadata": {},
   "outputs": [
    {
     "data": {
      "application/vnd.microsoft.datawrangler.viewer.v0+json": {
       "columns": [
        {
         "name": "index",
         "rawType": "int64",
         "type": "integer"
        },
        {
         "name": "SYM_ROOT",
         "rawType": "object",
         "type": "string"
        },
        {
         "name": "year",
         "rawType": "int32",
         "type": "integer"
        },
        {
         "name": "month",
         "rawType": "int32",
         "type": "integer"
        },
        {
         "name": "Betas",
         "rawType": "object",
         "type": "unknown"
        }
       ],
       "conversionMethod": "pd.DataFrame",
       "ref": "e4e0ea2e-4b4a-4a3d-9858-f47cab416d15",
       "rows": [
        [
         "0",
         "AMC",
         "2014",
         "1",
         "0.6801783537114248"
        ],
        [
         "9",
         "AMC",
         "2014",
         "10",
         "0.5528995696897088"
        ],
        [
         "14",
         "AMC",
         "2015",
         "3",
         "0.8909532496157646"
        ],
        [
         "15",
         "AMC",
         "2015",
         "4",
         "0.9481944497048647"
        ],
        [
         "16",
         "AMC",
         "2015",
         "5",
         "0.8333481763645256"
        ],
        [
         "17",
         "AMC",
         "2015",
         "6",
         "0.7311474814751208"
        ],
        [
         "29",
         "AMC",
         "2016",
         "6",
         "1.7322742825183397"
        ],
        [
         "31",
         "AMC",
         "2016",
         "8",
         "0.5566370380734076"
        ],
        [
         "58",
         "AMC",
         "2018",
         "11",
         "0.5984801791011387"
        ],
        [
         "74",
         "AMC",
         "2020",
         "3",
         "2.5593128965706775"
        ],
        [
         "89",
         "AMC",
         "2021",
         "6",
         "1.0203321981499625"
        ],
        [
         "103",
         "AMC",
         "2022",
         "8",
         "0.6102481432222047"
        ],
        [
         "106",
         "AMC",
         "2022",
         "11",
         "1.1153252703126901"
        ],
        [
         "107",
         "AMC",
         "2022",
         "12",
         "2.8745891341214307"
        ],
        [
         "108",
         "AMC",
         "2023",
         "1",
         "1.371571007660176"
        ],
        [
         "110",
         "AMC",
         "2023",
         "3",
         "1.1375900788094198"
        ],
        [
         "147",
         "AMD",
         "2012",
         "9",
         "0.5303462542668733"
        ],
        [
         "150",
         "AMD",
         "2012",
         "12",
         "0.5709838716421762"
        ],
        [
         "169",
         "AMD",
         "2014",
         "7",
         "0.510261861757765"
        ],
        [
         "170",
         "AMD",
         "2014",
         "8",
         "0.5830658221766176"
        ],
        [
         "236",
         "AMD",
         "2020",
         "2",
         "0.6684189718277042"
        ],
        [
         "237",
         "AMD",
         "2020",
         "3",
         "0.8268731765291213"
        ],
        [
         "273",
         "AMD",
         "2023",
         "3",
         "5.783648721776487"
        ],
        [
         "282",
         "AMZN",
         "2010",
         "5",
         "5.281488385003074"
        ],
        [
         "375",
         "AMZN",
         "2018",
         "2",
         "0.680686657339824"
        ],
        [
         "376",
         "AMZN",
         "2018",
         "3",
         "0.5273995015421151"
        ],
        [
         "400",
         "AMZN",
         "2020",
         "3",
         "0.9279500979889339"
        ],
        [
         "436",
         "AMZN",
         "2023",
         "3",
         "6.496508323688361"
        ],
        [
         "447",
         "APP",
         "2010",
         "7",
         "0.5160012329989643"
        ],
        [
         "449",
         "APP",
         "2010",
         "9",
         "0.6710912609099344"
        ],
        [
         "450",
         "APP",
         "2010",
         "10",
         "1.1278699439286228"
        ],
        [
         "453",
         "APP",
         "2011",
         "1",
         "0.9423120472970119"
        ],
        [
         "454",
         "APP",
         "2011",
         "2",
         "0.7005929072359602"
        ],
        [
         "455",
         "APP",
         "2011",
         "3",
         "0.9524785093887126"
        ],
        [
         "456",
         "APP",
         "2011",
         "4",
         "0.6821467685770245"
        ],
        [
         "457",
         "APP",
         "2011",
         "5",
         "2.559643403362071"
        ],
        [
         "458",
         "APP",
         "2011",
         "6",
         "0.7078489481804877"
        ],
        [
         "461",
         "APP",
         "2011",
         "9",
         "0.5767336206156615"
        ],
        [
         "463",
         "APP",
         "2011",
         "11",
         "1.602183695582116"
        ],
        [
         "464",
         "APP",
         "2011",
         "12",
         "0.8451664330803241"
        ],
        [
         "465",
         "APP",
         "2012",
         "1",
         "0.6842936664966869"
        ],
        [
         "466",
         "APP",
         "2012",
         "2",
         "0.6518421101366649"
        ],
        [
         "467",
         "APP",
         "2012",
         "3",
         "0.5018042693232152"
        ],
        [
         "472",
         "APP",
         "2012",
         "8",
         "0.7171423966169539"
        ],
        [
         "475",
         "APP",
         "2012",
         "11",
         "0.6168769506785176"
        ],
        [
         "476",
         "APP",
         "2012",
         "12",
         "1.325096660593427"
        ],
        [
         "478",
         "APP",
         "2013",
         "2",
         "0.9185100724157617"
        ],
        [
         "481",
         "APP",
         "2013",
         "5",
         "0.5190166718314821"
        ],
        [
         "484",
         "APP",
         "2013",
         "8",
         "0.6755420175434722"
        ],
        [
         "486",
         "APP",
         "2013",
         "10",
         "2.2884954783352023"
        ]
       ],
       "shape": {
        "columns": 4,
        "rows": 377
       }
      },
      "text/html": [
       "<div>\n",
       "<style scoped>\n",
       "    .dataframe tbody tr th:only-of-type {\n",
       "        vertical-align: middle;\n",
       "    }\n",
       "\n",
       "    .dataframe tbody tr th {\n",
       "        vertical-align: top;\n",
       "    }\n",
       "\n",
       "    .dataframe thead th {\n",
       "        text-align: right;\n",
       "    }\n",
       "</style>\n",
       "<table border=\"1\" class=\"dataframe\">\n",
       "  <thead>\n",
       "    <tr style=\"text-align: right;\">\n",
       "      <th></th>\n",
       "      <th>SYM_ROOT</th>\n",
       "      <th>year</th>\n",
       "      <th>month</th>\n",
       "      <th>Betas</th>\n",
       "    </tr>\n",
       "  </thead>\n",
       "  <tbody>\n",
       "    <tr>\n",
       "      <th>0</th>\n",
       "      <td>AMC</td>\n",
       "      <td>2014</td>\n",
       "      <td>1</td>\n",
       "      <td>0.6801783537114248</td>\n",
       "    </tr>\n",
       "    <tr>\n",
       "      <th>9</th>\n",
       "      <td>AMC</td>\n",
       "      <td>2014</td>\n",
       "      <td>10</td>\n",
       "      <td>0.5528995696897088</td>\n",
       "    </tr>\n",
       "    <tr>\n",
       "      <th>14</th>\n",
       "      <td>AMC</td>\n",
       "      <td>2015</td>\n",
       "      <td>3</td>\n",
       "      <td>0.8909532496157646</td>\n",
       "    </tr>\n",
       "    <tr>\n",
       "      <th>15</th>\n",
       "      <td>AMC</td>\n",
       "      <td>2015</td>\n",
       "      <td>4</td>\n",
       "      <td>0.9481944497048647</td>\n",
       "    </tr>\n",
       "    <tr>\n",
       "      <th>16</th>\n",
       "      <td>AMC</td>\n",
       "      <td>2015</td>\n",
       "      <td>5</td>\n",
       "      <td>0.8333481763645256</td>\n",
       "    </tr>\n",
       "    <tr>\n",
       "      <th>...</th>\n",
       "      <td>...</td>\n",
       "      <td>...</td>\n",
       "      <td>...</td>\n",
       "      <td>...</td>\n",
       "    </tr>\n",
       "    <tr>\n",
       "      <th>4652</th>\n",
       "      <td>WMT</td>\n",
       "      <td>2015</td>\n",
       "      <td>10</td>\n",
       "      <td>0.5497540198744904</td>\n",
       "    </tr>\n",
       "    <tr>\n",
       "      <th>4690</th>\n",
       "      <td>WMT</td>\n",
       "      <td>2018</td>\n",
       "      <td>12</td>\n",
       "      <td>0.6244070844211982</td>\n",
       "    </tr>\n",
       "    <tr>\n",
       "      <th>4705</th>\n",
       "      <td>WMT</td>\n",
       "      <td>2020</td>\n",
       "      <td>3</td>\n",
       "      <td>1.0741126779642438</td>\n",
       "    </tr>\n",
       "    <tr>\n",
       "      <th>4739</th>\n",
       "      <td>WMT</td>\n",
       "      <td>2023</td>\n",
       "      <td>1</td>\n",
       "      <td>0.6767466304778018</td>\n",
       "    </tr>\n",
       "    <tr>\n",
       "      <th>4814</th>\n",
       "      <td>ZI</td>\n",
       "      <td>2023</td>\n",
       "      <td>3</td>\n",
       "      <td>4.1764630805925655</td>\n",
       "    </tr>\n",
       "  </tbody>\n",
       "</table>\n",
       "<p>377 rows × 4 columns</p>\n",
       "</div>"
      ],
      "text/plain": [
       "     SYM_ROOT  year  month               Betas\n",
       "0         AMC  2014      1  0.6801783537114248\n",
       "9         AMC  2014     10  0.5528995696897088\n",
       "14        AMC  2015      3  0.8909532496157646\n",
       "15        AMC  2015      4  0.9481944497048647\n",
       "16        AMC  2015      5  0.8333481763645256\n",
       "...       ...   ...    ...                 ...\n",
       "4652      WMT  2015     10  0.5497540198744904\n",
       "4690      WMT  2018     12  0.6244070844211982\n",
       "4705      WMT  2020      3  1.0741126779642438\n",
       "4739      WMT  2023      1  0.6767466304778018\n",
       "4814       ZI  2023      3  4.1764630805925655\n",
       "\n",
       "[377 rows x 4 columns]"
      ]
     },
     "execution_count": 37,
     "metadata": {},
     "output_type": "execute_result"
    }
   ],
   "source": [
    "betas[betas['Betas']>=0.5]"
   ]
  },
  {
   "cell_type": "code",
   "execution_count": 32,
   "metadata": {},
   "outputs": [
    {
     "data": {
      "application/vnd.microsoft.datawrangler.viewer.v0+json": {
       "columns": [
        {
         "name": "index",
         "rawType": "int64",
         "type": "integer"
        },
        {
         "name": "SYM_ROOT",
         "rawType": "object",
         "type": "string"
        },
        {
         "name": "year",
         "rawType": "int32",
         "type": "integer"
        },
        {
         "name": "month",
         "rawType": "int32",
         "type": "integer"
        },
        {
         "name": "Betas",
         "rawType": "object",
         "type": "unknown"
        }
       ],
       "conversionMethod": "pd.DataFrame",
       "ref": "929fa545-b9bd-482d-be00-09acb614ee76",
       "rows": [
        [
         "0",
         "AMC",
         "2014",
         "1",
         "0.6801783537114248"
        ],
        [
         "1",
         "AMC",
         "2014",
         "2",
         "0.3044701508508652"
        ],
        [
         "2",
         "AMC",
         "2014",
         "3",
         "0.43894627795209695"
        ],
        [
         "3",
         "AMC",
         "2014",
         "4",
         "0.3677223030178472"
        ],
        [
         "4",
         "AMC",
         "2014",
         "5",
         "0.16202374674351883"
        ],
        [
         "5",
         "AMC",
         "2014",
         "6",
         "0.23204657762376438"
        ],
        [
         "6",
         "AMC",
         "2014",
         "7",
         "0.32615514134649903"
        ],
        [
         "7",
         "AMC",
         "2014",
         "8",
         "0.09359459015899961"
        ],
        [
         "8",
         "AMC",
         "2014",
         "9",
         "0.29087171434011705"
        ],
        [
         "9",
         "AMC",
         "2014",
         "10",
         "0.5528995696897088"
        ],
        [
         "10",
         "AMC",
         "2014",
         "11",
         "0.03848091109449146"
        ],
        [
         "11",
         "AMC",
         "2014",
         "12",
         "0.24970086643532965"
        ],
        [
         "12",
         "AMC",
         "2015",
         "1",
         "0.09874012774222402"
        ],
        [
         "13",
         "AMC",
         "2015",
         "2",
         "0.41004987917966274"
        ],
        [
         "14",
         "AMC",
         "2015",
         "3",
         "0.8909532496157646"
        ],
        [
         "15",
         "AMC",
         "2015",
         "4",
         "0.9481944497048647"
        ],
        [
         "16",
         "AMC",
         "2015",
         "5",
         "0.8333481763645256"
        ],
        [
         "17",
         "AMC",
         "2015",
         "6",
         "0.7311474814751208"
        ],
        [
         "18",
         "AMC",
         "2015",
         "7",
         "0.3898003945026739"
        ],
        [
         "19",
         "AMC",
         "2015",
         "8",
         "0.4106949890841388"
        ],
        [
         "20",
         "AMC",
         "2015",
         "9",
         "0.21814251029811668"
        ],
        [
         "21",
         "AMC",
         "2015",
         "10",
         "0.07924954195511244"
        ],
        [
         "22",
         "AMC",
         "2015",
         "11",
         "0.4487864138668717"
        ],
        [
         "23",
         "AMC",
         "2015",
         "12",
         "0.35742266523574323"
        ],
        [
         "24",
         "AMC",
         "2016",
         "1",
         "0.33909243205612144"
        ],
        [
         "25",
         "AMC",
         "2016",
         "2",
         "0.17234107994725434"
        ],
        [
         "26",
         "AMC",
         "2016",
         "3",
         "0.32847340615646653"
        ],
        [
         "27",
         "AMC",
         "2016",
         "4",
         "0.3437307190664314"
        ],
        [
         "28",
         "AMC",
         "2016",
         "5",
         "0.09084120848875615"
        ],
        [
         "29",
         "AMC",
         "2016",
         "6",
         "1.7322742825183397"
        ],
        [
         "30",
         "AMC",
         "2016",
         "7",
         "0.3791342362778165"
        ],
        [
         "31",
         "AMC",
         "2016",
         "8",
         "0.5566370380734076"
        ],
        [
         "32",
         "AMC",
         "2016",
         "9",
         "0.2617577328161048"
        ],
        [
         "33",
         "AMC",
         "2016",
         "10",
         "0.261440812541585"
        ],
        [
         "34",
         "AMC",
         "2016",
         "11",
         "0.40991784476668913"
        ],
        [
         "35",
         "AMC",
         "2016",
         "12",
         "0.23646473222282294"
        ],
        [
         "36",
         "AMC",
         "2017",
         "1",
         "0.21937979105555652"
        ],
        [
         "37",
         "AMC",
         "2017",
         "2",
         "0.47672854596006703"
        ],
        [
         "38",
         "AMC",
         "2017",
         "3",
         "0.14792209734384332"
        ],
        [
         "39",
         "AMC",
         "2017",
         "4",
         "0.09295473879098964"
        ],
        [
         "40",
         "AMC",
         "2017",
         "5",
         "0.12392613328073397"
        ],
        [
         "41",
         "AMC",
         "2017",
         "6",
         "0.07122416579231658"
        ],
        [
         "42",
         "AMC",
         "2017",
         "7",
         "0.05810191081497517"
        ],
        [
         "43",
         "AMC",
         "2017",
         "8",
         "0.270846602455239"
        ],
        [
         "44",
         "AMC",
         "2017",
         "9",
         "0.08970432803139866"
        ],
        [
         "45",
         "AMC",
         "2017",
         "10",
         "0.12070112268047167"
        ],
        [
         "46",
         "AMC",
         "2017",
         "11",
         "0.15270391321759275"
        ],
        [
         "47",
         "AMC",
         "2017",
         "12",
         "0.06595204099279366"
        ],
        [
         "48",
         "AMC",
         "2018",
         "1",
         "0.19410989408865795"
        ],
        [
         "49",
         "AMC",
         "2018",
         "2",
         "0.04484580281712572"
        ]
       ],
       "shape": {
        "columns": 4,
        "rows": 4819
       }
      },
      "text/html": [
       "<div>\n",
       "<style scoped>\n",
       "    .dataframe tbody tr th:only-of-type {\n",
       "        vertical-align: middle;\n",
       "    }\n",
       "\n",
       "    .dataframe tbody tr th {\n",
       "        vertical-align: top;\n",
       "    }\n",
       "\n",
       "    .dataframe thead th {\n",
       "        text-align: right;\n",
       "    }\n",
       "</style>\n",
       "<table border=\"1\" class=\"dataframe\">\n",
       "  <thead>\n",
       "    <tr style=\"text-align: right;\">\n",
       "      <th></th>\n",
       "      <th>SYM_ROOT</th>\n",
       "      <th>year</th>\n",
       "      <th>month</th>\n",
       "      <th>Betas</th>\n",
       "    </tr>\n",
       "  </thead>\n",
       "  <tbody>\n",
       "    <tr>\n",
       "      <th>0</th>\n",
       "      <td>AMC</td>\n",
       "      <td>2014</td>\n",
       "      <td>1</td>\n",
       "      <td>0.6801783537114248</td>\n",
       "    </tr>\n",
       "    <tr>\n",
       "      <th>1</th>\n",
       "      <td>AMC</td>\n",
       "      <td>2014</td>\n",
       "      <td>2</td>\n",
       "      <td>0.3044701508508652</td>\n",
       "    </tr>\n",
       "    <tr>\n",
       "      <th>2</th>\n",
       "      <td>AMC</td>\n",
       "      <td>2014</td>\n",
       "      <td>3</td>\n",
       "      <td>0.43894627795209695</td>\n",
       "    </tr>\n",
       "    <tr>\n",
       "      <th>3</th>\n",
       "      <td>AMC</td>\n",
       "      <td>2014</td>\n",
       "      <td>4</td>\n",
       "      <td>0.3677223030178472</td>\n",
       "    </tr>\n",
       "    <tr>\n",
       "      <th>4</th>\n",
       "      <td>AMC</td>\n",
       "      <td>2014</td>\n",
       "      <td>5</td>\n",
       "      <td>0.16202374674351883</td>\n",
       "    </tr>\n",
       "    <tr>\n",
       "      <th>...</th>\n",
       "      <td>...</td>\n",
       "      <td>...</td>\n",
       "      <td>...</td>\n",
       "      <td>...</td>\n",
       "    </tr>\n",
       "    <tr>\n",
       "      <th>4814</th>\n",
       "      <td>ZI</td>\n",
       "      <td>2023</td>\n",
       "      <td>3</td>\n",
       "      <td>4.1764630805925655</td>\n",
       "    </tr>\n",
       "    <tr>\n",
       "      <th>4815</th>\n",
       "      <td>ZI</td>\n",
       "      <td>2023</td>\n",
       "      <td>4</td>\n",
       "      <td>0.10833338739933156</td>\n",
       "    </tr>\n",
       "    <tr>\n",
       "      <th>4816</th>\n",
       "      <td>ZI</td>\n",
       "      <td>2023</td>\n",
       "      <td>5</td>\n",
       "      <td>0.1918529306195535</td>\n",
       "    </tr>\n",
       "    <tr>\n",
       "      <th>4817</th>\n",
       "      <td>ZI</td>\n",
       "      <td>2023</td>\n",
       "      <td>6</td>\n",
       "      <td>0.07078159863146065</td>\n",
       "    </tr>\n",
       "    <tr>\n",
       "      <th>4818</th>\n",
       "      <td>ZI</td>\n",
       "      <td>2023</td>\n",
       "      <td>7</td>\n",
       "      <td>0.1138155765796715</td>\n",
       "    </tr>\n",
       "  </tbody>\n",
       "</table>\n",
       "<p>4819 rows × 4 columns</p>\n",
       "</div>"
      ],
      "text/plain": [
       "     SYM_ROOT  year  month                Betas\n",
       "0         AMC  2014      1   0.6801783537114248\n",
       "1         AMC  2014      2   0.3044701508508652\n",
       "2         AMC  2014      3  0.43894627795209695\n",
       "3         AMC  2014      4   0.3677223030178472\n",
       "4         AMC  2014      5  0.16202374674351883\n",
       "...       ...   ...    ...                  ...\n",
       "4814       ZI  2023      3   4.1764630805925655\n",
       "4815       ZI  2023      4  0.10833338739933156\n",
       "4816       ZI  2023      5   0.1918529306195535\n",
       "4817       ZI  2023      6  0.07078159863146065\n",
       "4818       ZI  2023      7   0.1138155765796715\n",
       "\n",
       "[4819 rows x 4 columns]"
      ]
     },
     "execution_count": 32,
     "metadata": {},
     "output_type": "execute_result"
    }
   ],
   "source": [
    "betas"
   ]
  }
 ],
 "metadata": {
  "kernelspec": {
   "display_name": "Python 3",
   "language": "python",
   "name": "python3"
  },
  "language_info": {
   "codemirror_mode": {
    "name": "ipython",
    "version": 3
   },
   "file_extension": ".py",
   "mimetype": "text/x-python",
   "name": "python",
   "nbconvert_exporter": "python",
   "pygments_lexer": "ipython3",
   "version": "3.12.0"
  }
 },
 "nbformat": 4,
 "nbformat_minor": 2
}
